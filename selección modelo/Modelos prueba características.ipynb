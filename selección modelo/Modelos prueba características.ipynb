{
 "cells": [
  {
   "cell_type": "markdown",
   "metadata": {},
   "source": [
    "<h3 align=\"center\">Prueba con las Primeras 10 Características Relevantes</h3>"
   ]
  },
  {
   "cell_type": "code",
   "execution_count": 1,
   "metadata": {},
   "outputs": [],
   "source": [
    "import pandas as pd\n",
    "import sklearn\n",
    "from sklearn.model_selection import train_test_split\n",
    "from sklearn import preprocessing\n",
    "from sklearn.metrics import confusion_matrix\n",
    "from sklearn.metrics import accuracy_score\n",
    "from sklearn.metrics import classification_report\n",
    "from sklearn.model_selection import KFold\n",
    "from sklearn.model_selection import cross_validate"
   ]
  },
  {
   "cell_type": "code",
   "execution_count": 10,
   "metadata": {},
   "outputs": [
    {
     "data": {
      "text/html": [
       "<div>\n",
       "<style scoped>\n",
       "    .dataframe tbody tr th:only-of-type {\n",
       "        vertical-align: middle;\n",
       "    }\n",
       "\n",
       "    .dataframe tbody tr th {\n",
       "        vertical-align: top;\n",
       "    }\n",
       "\n",
       "    .dataframe thead th {\n",
       "        text-align: right;\n",
       "    }\n",
       "</style>\n",
       "<table border=\"1\" class=\"dataframe\">\n",
       "  <thead>\n",
       "    <tr style=\"text-align: right;\">\n",
       "      <th></th>\n",
       "      <th>haveIp</th>\n",
       "      <th>lengthUrl</th>\n",
       "      <th>haveAtSymbol</th>\n",
       "      <th>sslState</th>\n",
       "      <th>domainAge</th>\n",
       "      <th>slashDouble</th>\n",
       "      <th>anchorUrl</th>\n",
       "      <th>prefixSuffix</th>\n",
       "      <th>linksInTags</th>\n",
       "      <th>clicRigth</th>\n",
       "      <th>...</th>\n",
       "      <th>hasSHA1</th>\n",
       "      <th>hasYara</th>\n",
       "      <th>hasSHA256</th>\n",
       "      <th>hasShort</th>\n",
       "      <th>hasDateTime</th>\n",
       "      <th>hasDomain</th>\n",
       "      <th>hasHostname</th>\n",
       "      <th>hasIPDst</th>\n",
       "      <th>hasIPSrc</th>\n",
       "      <th>result</th>\n",
       "    </tr>\n",
       "    <tr>\n",
       "      <th>Ord.</th>\n",
       "      <th></th>\n",
       "      <th></th>\n",
       "      <th></th>\n",
       "      <th></th>\n",
       "      <th></th>\n",
       "      <th></th>\n",
       "      <th></th>\n",
       "      <th></th>\n",
       "      <th></th>\n",
       "      <th></th>\n",
       "      <th></th>\n",
       "      <th></th>\n",
       "      <th></th>\n",
       "      <th></th>\n",
       "      <th></th>\n",
       "      <th></th>\n",
       "      <th></th>\n",
       "      <th></th>\n",
       "      <th></th>\n",
       "      <th></th>\n",
       "      <th></th>\n",
       "    </tr>\n",
       "  </thead>\n",
       "  <tbody>\n",
       "    <tr>\n",
       "      <th>0</th>\n",
       "      <td>1</td>\n",
       "      <td>1</td>\n",
       "      <td>1</td>\n",
       "      <td>1</td>\n",
       "      <td>-1</td>\n",
       "      <td>1</td>\n",
       "      <td>-1</td>\n",
       "      <td>1</td>\n",
       "      <td>0</td>\n",
       "      <td>-1</td>\n",
       "      <td>...</td>\n",
       "      <td>-1</td>\n",
       "      <td>-1</td>\n",
       "      <td>-1</td>\n",
       "      <td>-1</td>\n",
       "      <td>-1</td>\n",
       "      <td>-1</td>\n",
       "      <td>-1</td>\n",
       "      <td>-1</td>\n",
       "      <td>-1</td>\n",
       "      <td>1</td>\n",
       "    </tr>\n",
       "    <tr>\n",
       "      <th>1</th>\n",
       "      <td>1</td>\n",
       "      <td>1</td>\n",
       "      <td>1</td>\n",
       "      <td>1</td>\n",
       "      <td>-1</td>\n",
       "      <td>1</td>\n",
       "      <td>-1</td>\n",
       "      <td>1</td>\n",
       "      <td>0</td>\n",
       "      <td>-1</td>\n",
       "      <td>...</td>\n",
       "      <td>-1</td>\n",
       "      <td>-1</td>\n",
       "      <td>-1</td>\n",
       "      <td>-1</td>\n",
       "      <td>-1</td>\n",
       "      <td>-1</td>\n",
       "      <td>-1</td>\n",
       "      <td>-1</td>\n",
       "      <td>-1</td>\n",
       "      <td>1</td>\n",
       "    </tr>\n",
       "    <tr>\n",
       "      <th>2</th>\n",
       "      <td>1</td>\n",
       "      <td>1</td>\n",
       "      <td>1</td>\n",
       "      <td>1</td>\n",
       "      <td>-1</td>\n",
       "      <td>1</td>\n",
       "      <td>-1</td>\n",
       "      <td>1</td>\n",
       "      <td>-1</td>\n",
       "      <td>-1</td>\n",
       "      <td>...</td>\n",
       "      <td>-1</td>\n",
       "      <td>-1</td>\n",
       "      <td>-1</td>\n",
       "      <td>-1</td>\n",
       "      <td>-1</td>\n",
       "      <td>-1</td>\n",
       "      <td>-1</td>\n",
       "      <td>-1</td>\n",
       "      <td>-1</td>\n",
       "      <td>1</td>\n",
       "    </tr>\n",
       "    <tr>\n",
       "      <th>3</th>\n",
       "      <td>1</td>\n",
       "      <td>-1</td>\n",
       "      <td>1</td>\n",
       "      <td>1</td>\n",
       "      <td>-1</td>\n",
       "      <td>1</td>\n",
       "      <td>-1</td>\n",
       "      <td>-1</td>\n",
       "      <td>-1</td>\n",
       "      <td>-1</td>\n",
       "      <td>...</td>\n",
       "      <td>-1</td>\n",
       "      <td>-1</td>\n",
       "      <td>-1</td>\n",
       "      <td>-1</td>\n",
       "      <td>-1</td>\n",
       "      <td>-1</td>\n",
       "      <td>-1</td>\n",
       "      <td>-1</td>\n",
       "      <td>-1</td>\n",
       "      <td>1</td>\n",
       "    </tr>\n",
       "    <tr>\n",
       "      <th>4</th>\n",
       "      <td>1</td>\n",
       "      <td>1</td>\n",
       "      <td>1</td>\n",
       "      <td>1</td>\n",
       "      <td>-1</td>\n",
       "      <td>1</td>\n",
       "      <td>-1</td>\n",
       "      <td>1</td>\n",
       "      <td>1</td>\n",
       "      <td>-1</td>\n",
       "      <td>...</td>\n",
       "      <td>-1</td>\n",
       "      <td>-1</td>\n",
       "      <td>-1</td>\n",
       "      <td>-1</td>\n",
       "      <td>-1</td>\n",
       "      <td>-1</td>\n",
       "      <td>-1</td>\n",
       "      <td>-1</td>\n",
       "      <td>-1</td>\n",
       "      <td>1</td>\n",
       "    </tr>\n",
       "  </tbody>\n",
       "</table>\n",
       "<p>5 rows × 41 columns</p>\n",
       "</div>"
      ],
      "text/plain": [
       "      haveIp  lengthUrl  haveAtSymbol  sslState  domainAge  slashDouble   \n",
       "Ord.                                                                      \n",
       "0          1          1             1         1         -1            1  \\\n",
       "1          1          1             1         1         -1            1   \n",
       "2          1          1             1         1         -1            1   \n",
       "3          1         -1             1         1         -1            1   \n",
       "4          1          1             1         1         -1            1   \n",
       "\n",
       "      anchorUrl  prefixSuffix  linksInTags  clicRigth  ...  hasSHA1  hasYara   \n",
       "Ord.                                                   ...                     \n",
       "0            -1             1            0         -1  ...       -1       -1  \\\n",
       "1            -1             1            0         -1  ...       -1       -1   \n",
       "2            -1             1           -1         -1  ...       -1       -1   \n",
       "3            -1            -1           -1         -1  ...       -1       -1   \n",
       "4            -1             1            1         -1  ...       -1       -1   \n",
       "\n",
       "      hasSHA256  hasShort  hasDateTime  hasDomain  hasHostname  hasIPDst   \n",
       "Ord.                                                                       \n",
       "0            -1        -1           -1         -1           -1        -1  \\\n",
       "1            -1        -1           -1         -1           -1        -1   \n",
       "2            -1        -1           -1         -1           -1        -1   \n",
       "3            -1        -1           -1         -1           -1        -1   \n",
       "4            -1        -1           -1         -1           -1        -1   \n",
       "\n",
       "      hasIPSrc  result  \n",
       "Ord.                    \n",
       "0           -1       1  \n",
       "1           -1       1  \n",
       "2           -1       1  \n",
       "3           -1       1  \n",
       "4           -1       1  \n",
       "\n",
       "[5 rows x 41 columns]"
      ]
     },
     "execution_count": 10,
     "metadata": {},
     "output_type": "execute_result"
    }
   ],
   "source": [
    "#Leemos el dataset con las primeras 10 características\n",
    "df = pd.read_csv(\"/Users/denniscaisa/Desktop/DENNIS/TITULACION/Documentos/Separacion de Caracteristicas/Dataset_Legitime_40Features.csv\",index_col=0)\n",
    "#df = sklearn.utils.shuffle(df)\n",
    "X = df.drop(\"result\",axis=1).values\n",
    "X = preprocessing.scale(X)\n",
    "y = df['result'].values\n",
    "df.head()"
   ]
  },
  {
   "cell_type": "code",
   "execution_count": 2,
   "metadata": {},
   "outputs": [],
   "source": [
    "def mean_score(scoring):\n",
    "    return {i:j.mean() for i,j in scoring.items()}\n",
    "\n",
    "scoring = {'accuracy': 'accuracy',\n",
    "           'recall': 'recall',\n",
    "           'precision': 'precision',\n",
    "           'f1': 'f1'}\n",
    "fold_count=10"
   ]
  },
  {
   "cell_type": "code",
   "execution_count": 12,
   "metadata": {},
   "outputs": [
    {
     "name": "stdout",
     "output_type": "stream",
     "text": [
      "{'fit_time': 0.2747465741634369, 'score_time': 0.003507619142532349, 'test_accuracy': 0.8413186813186815, 'test_recall': 0.9630545454545455, 'test_precision': 0.85824898989899, 'test_f1': 0.9052485176797297}\n"
     ]
    }
   ],
   "source": [
    "#Random Forest\n",
    "from sklearn.ensemble import RandomForestClassifier\n",
    "rforest_clf = RandomForestClassifier()\n",
    "cross_val_scores = cross_validate(rforest_clf, X, y, cv=1000, scoring = scoring)\n",
    "rforest_clf_score = mean_score(cross_val_scores)\n",
    "print(rforest_clf_score)"
   ]
  },
  {
   "cell_type": "code",
   "execution_count": 5,
   "metadata": {},
   "outputs": [
    {
     "name": "stdout",
     "output_type": "stream",
     "text": [
      "{'fit_time': 4.16614933013916, 'score_time': 0.002890205383300781, 'test_accuracy': 0.9289930694770605, 'test_recall': 0.9580968218773098, 'test_precision': 0.9183232608968502, 'test_f1': 0.9376754157971023}\n"
     ]
    }
   ],
   "source": [
    "#Multi-layer Perceptron classifier\n",
    "from sklearn.neural_network import MLPClassifier\n",
    "neural_clf=MLPClassifier(hidden_layer_sizes=(33,),max_iter=500)\n",
    "cross_val_scores = cross_validate(neural_clf, X, y, cv=fold_count, scoring=scoring)\n",
    "neural_clf_score = mean_score(cross_val_scores)\n",
    "print(neural_clf_score)"
   ]
  },
  {
   "cell_type": "code",
   "execution_count": 6,
   "metadata": {},
   "outputs": [
    {
     "name": "stdout",
     "output_type": "stream",
     "text": [
      "{'fit_time': 0.0064700603485107425, 'score_time': 0.0036203861236572266, 'test_accuracy': 0.9304403786831189, 'test_recall': 0.9576074332171893, 'test_precision': 0.9208736134957336, 'test_f1': 0.9388238315551718}\n"
     ]
    }
   ],
   "source": [
    "#Decision Tree\n",
    "from sklearn.tree import DecisionTreeClassifier\n",
    "decisionTree = DecisionTreeClassifier()\n",
    "cross_val_scores = cross_validate(decisionTree, X, y, cv=fold_count, scoring=scoring)\n",
    "decisionTree_clf_score = mean_score(cross_val_scores)\n",
    "print(decisionTree_clf_score)"
   ]
  },
  {
   "cell_type": "code",
   "execution_count": 7,
   "metadata": {},
   "outputs": [
    {
     "name": "stdout",
     "output_type": "stream",
     "text": [
      "{'fit_time': 0.15451476573944092, 'score_time': 0.009453296661376953, 'test_accuracy': 0.921666434830992, 'test_recall': 0.9462395734346953, 'test_precision': 0.9161322324709887, 'test_f1': 0.9308807642327928}\n"
     ]
    }
   ],
   "source": [
    "# Ada Boost\n",
    "from sklearn.ensemble import AdaBoostClassifier\n",
    "adaBoost = AdaBoostClassifier()\n",
    "cross_val_scores = cross_validate(adaBoost, X, y, cv=fold_count, scoring=scoring)\n",
    "adaBoost_clf_score = mean_score(cross_val_scores)\n",
    "print(adaBoost_clf_score)"
   ]
  },
  {
   "cell_type": "code",
   "execution_count": 8,
   "metadata": {},
   "outputs": [
    {
     "name": "stdout",
     "output_type": "stream",
     "text": [
      "{'fit_time': 0.9238576173782349, 'score_time': 0.17650389671325684, 'test_accuracy': 0.9280881739258507, 'test_recall': 0.9598812163446311, 'test_precision': 0.9153913821546513, 'test_f1': 0.9370321385410193}\n"
     ]
    }
   ],
   "source": [
    "#SVM\n",
    "from sklearn.svm import SVC\n",
    "svc = SVC()\n",
    "cross_val_scores = cross_validate(svc, X, y, cv=fold_count, scoring=scoring)\n",
    "svc_clf_score = mean_score(cross_val_scores)\n",
    "print(svc_clf_score)"
   ]
  },
  {
   "cell_type": "code",
   "execution_count": 9,
   "metadata": {},
   "outputs": [
    {
     "name": "stdout",
     "output_type": "stream",
     "text": [
      "{'fit_time': 2.539289140701294, 'score_time': 0.167938232421875, 'test_accuracy': 0.9303496354724947, 'test_recall': 0.9598814803083096, 'test_precision': 0.9189040025606975, 'test_f1': 0.9388835790037648}\n"
     ]
    }
   ],
   "source": [
    "#Bagging Classifier Random Forest\n",
    "from sklearn.ensemble import BaggingClassifier\n",
    "bagging = BaggingClassifier(RandomForestClassifier())\n",
    "cross_val_scores = cross_validate(bagging, X, y, cv=fold_count, scoring=scoring)\n",
    "bagging_clf_score = mean_score(cross_val_scores)\n",
    "print(bagging_clf_score)"
   ]
  },
  {
   "cell_type": "code",
   "execution_count": 10,
   "metadata": {},
   "outputs": [
    {
     "name": "stdout",
     "output_type": "stream",
     "text": [
      "{'fit_time': 0.04160521030426025, 'score_time': 0.004002571105957031, 'test_accuracy': 0.9304402968587631, 'test_recall': 0.9592321296589589, 'test_precision': 0.9195552940802585, 'test_f1': 0.9389222593902151}\n"
     ]
    }
   ],
   "source": [
    "#Bagging Decision Tree\n",
    "bagging = BaggingClassifier(DecisionTreeClassifier())\n",
    "cross_val_scores = cross_validate(bagging, X, y, cv=fold_count, scoring=scoring)\n",
    "bagging_clf_score = mean_score(cross_val_scores)\n",
    "print(bagging_clf_score)"
   ]
  },
  {
   "cell_type": "code",
   "execution_count": 11,
   "metadata": {},
   "outputs": [
    {
     "name": "stdout",
     "output_type": "stream",
     "text": [
      "{'fit_time': 1.36076762676239, 'score_time': 0.08000371456146241, 'test_accuracy': 0.9216666803040594, 'test_recall': 0.9468889240840459, 'test_precision': 0.9156194822384744, 'test_f1': 0.9309298094484426}\n"
     ]
    }
   ],
   "source": [
    "#Bagging Ada Boost\n",
    "bagging = BaggingClassifier(AdaBoostClassifier())\n",
    "cross_val_scores = cross_validate(bagging, X, y, cv=fold_count, scoring=scoring)\n",
    "bagging_clf_score = mean_score(cross_val_scores)\n",
    "print(bagging_clf_score)"
   ]
  },
  {
   "cell_type": "code",
   "execution_count": 12,
   "metadata": {},
   "outputs": [
    {
     "name": "stdout",
     "output_type": "stream",
     "text": [
      "{'fit_time': 4.3257176876068115, 'score_time': 1.3172972917556762, 'test_accuracy': 0.9279075057481609, 'test_recall': 0.9587437968535528, 'test_precision': 0.9159877275109581, 'test_f1': 0.9368141176810759}\n"
     ]
    }
   ],
   "source": [
    "#Bagging SVM\n",
    "bagging = BaggingClassifier(SVC())\n",
    "cross_val_scores = cross_validate(bagging, X, y, cv=fold_count, scoring=scoring)\n",
    "bagging_clf_score = mean_score(cross_val_scores)\n",
    "print(bagging_clf_score)"
   ]
  },
  {
   "cell_type": "markdown",
   "metadata": {},
   "source": [
    "<h3 align=\"center\">Prueba con las Segundas 10 Características Relevantes</h3>"
   ]
  },
  {
   "cell_type": "code",
   "execution_count": 13,
   "metadata": {},
   "outputs": [
    {
     "data": {
      "text/html": [
       "<div>\n",
       "<style scoped>\n",
       "    .dataframe tbody tr th:only-of-type {\n",
       "        vertical-align: middle;\n",
       "    }\n",
       "\n",
       "    .dataframe tbody tr th {\n",
       "        vertical-align: top;\n",
       "    }\n",
       "\n",
       "    .dataframe thead th {\n",
       "        text-align: right;\n",
       "    }\n",
       "</style>\n",
       "<table border=\"1\" class=\"dataframe\">\n",
       "  <thead>\n",
       "    <tr style=\"text-align: right;\">\n",
       "      <th></th>\n",
       "      <th>popUpWidnow</th>\n",
       "      <th>Favicon</th>\n",
       "      <th>Abnormal_URL</th>\n",
       "      <th>Iframe</th>\n",
       "      <th>DNSRecord</th>\n",
       "      <th>Google_Index</th>\n",
       "      <th>port</th>\n",
       "      <th>Request_URL</th>\n",
       "      <th>SFH</th>\n",
       "      <th>Redirect</th>\n",
       "      <th>Result</th>\n",
       "    </tr>\n",
       "    <tr>\n",
       "      <th>index</th>\n",
       "      <th></th>\n",
       "      <th></th>\n",
       "      <th></th>\n",
       "      <th></th>\n",
       "      <th></th>\n",
       "      <th></th>\n",
       "      <th></th>\n",
       "      <th></th>\n",
       "      <th></th>\n",
       "      <th></th>\n",
       "      <th></th>\n",
       "    </tr>\n",
       "  </thead>\n",
       "  <tbody>\n",
       "    <tr>\n",
       "      <th>1</th>\n",
       "      <td>1</td>\n",
       "      <td>1</td>\n",
       "      <td>-1</td>\n",
       "      <td>1</td>\n",
       "      <td>-1</td>\n",
       "      <td>1</td>\n",
       "      <td>1</td>\n",
       "      <td>1</td>\n",
       "      <td>-1</td>\n",
       "      <td>0</td>\n",
       "      <td>-1</td>\n",
       "    </tr>\n",
       "    <tr>\n",
       "      <th>2</th>\n",
       "      <td>1</td>\n",
       "      <td>1</td>\n",
       "      <td>1</td>\n",
       "      <td>1</td>\n",
       "      <td>-1</td>\n",
       "      <td>1</td>\n",
       "      <td>1</td>\n",
       "      <td>1</td>\n",
       "      <td>-1</td>\n",
       "      <td>0</td>\n",
       "      <td>-1</td>\n",
       "    </tr>\n",
       "    <tr>\n",
       "      <th>3</th>\n",
       "      <td>1</td>\n",
       "      <td>1</td>\n",
       "      <td>-1</td>\n",
       "      <td>1</td>\n",
       "      <td>-1</td>\n",
       "      <td>1</td>\n",
       "      <td>1</td>\n",
       "      <td>1</td>\n",
       "      <td>-1</td>\n",
       "      <td>0</td>\n",
       "      <td>-1</td>\n",
       "    </tr>\n",
       "    <tr>\n",
       "      <th>4</th>\n",
       "      <td>1</td>\n",
       "      <td>1</td>\n",
       "      <td>1</td>\n",
       "      <td>1</td>\n",
       "      <td>-1</td>\n",
       "      <td>1</td>\n",
       "      <td>1</td>\n",
       "      <td>-1</td>\n",
       "      <td>-1</td>\n",
       "      <td>0</td>\n",
       "      <td>-1</td>\n",
       "    </tr>\n",
       "    <tr>\n",
       "      <th>5</th>\n",
       "      <td>-1</td>\n",
       "      <td>1</td>\n",
       "      <td>1</td>\n",
       "      <td>1</td>\n",
       "      <td>-1</td>\n",
       "      <td>1</td>\n",
       "      <td>1</td>\n",
       "      <td>1</td>\n",
       "      <td>-1</td>\n",
       "      <td>0</td>\n",
       "      <td>1</td>\n",
       "    </tr>\n",
       "  </tbody>\n",
       "</table>\n",
       "</div>"
      ],
      "text/plain": [
       "       popUpWidnow  Favicon  Abnormal_URL  Iframe  DNSRecord  Google_Index  \\\n",
       "index                                                                        \n",
       "1                1        1            -1       1         -1             1   \n",
       "2                1        1             1       1         -1             1   \n",
       "3                1        1            -1       1         -1             1   \n",
       "4                1        1             1       1         -1             1   \n",
       "5               -1        1             1       1         -1             1   \n",
       "\n",
       "       port  Request_URL  SFH  Redirect  Result  \n",
       "index                                            \n",
       "1         1            1   -1         0      -1  \n",
       "2         1            1   -1         0      -1  \n",
       "3         1            1   -1         0      -1  \n",
       "4         1           -1   -1         0      -1  \n",
       "5         1            1   -1         0       1  "
      ]
     },
     "execution_count": 13,
     "metadata": {},
     "output_type": "execute_result"
    }
   ],
   "source": [
    "#Leemos el dataset con las Segundas 10 características\n",
    "df = pd.read_csv(\"10x2dataset.csv\",index_col=0)\n",
    "#df = sklearn.utils.shuffle(df)\n",
    "X = df.drop(\"Result\",axis=1).values\n",
    "X = preprocessing.scale(X)\n",
    "y = df['Result'].values\n",
    "df.head()"
   ]
  },
  {
   "cell_type": "code",
   "execution_count": 14,
   "metadata": {},
   "outputs": [
    {
     "name": "stdout",
     "output_type": "stream",
     "text": [
      "{'fit_time': 0.337549614906311, 'score_time': 0.020145606994628907, 'test_accuracy': 0.6937229263662622, 'test_recall': 0.7788190265019532, 'test_precision': 0.7036528705197763, 'test_f1': 0.7374157797263136}\n"
     ]
    }
   ],
   "source": [
    "#Random Forest\n",
    "from sklearn.ensemble import RandomForestClassifier\n",
    "rforest_clf = RandomForestClassifier()\n",
    "cross_val_scores = cross_validate(rforest_clf, X, y, cv=10, scoring = scoring)\n",
    "rforest_clf_score = mean_score(cross_val_scores)\n",
    "print(rforest_clf_score)"
   ]
  },
  {
   "cell_type": "code",
   "execution_count": 15,
   "metadata": {},
   "outputs": [
    {
     "name": "stdout",
     "output_type": "stream",
     "text": [
      "{'fit_time': 3.271924686431885, 'score_time': 0.0031115531921386717, 'test_accuracy': 0.6908289625489923, 'test_recall': 0.771505648822722, 'test_precision': 0.7027586719801076, 'test_f1': 0.7341567690062124}\n"
     ]
    }
   ],
   "source": [
    "#Multi-layer Perceptron classifier\n",
    "from sklearn.neural_network import MLPClassifier\n",
    "neural_clf=MLPClassifier(hidden_layer_sizes=(33,),max_iter=500)\n",
    "cross_val_scores = cross_validate(neural_clf, X, y, cv=fold_count, scoring=scoring)\n",
    "neural_clf_score = mean_score(cross_val_scores)\n",
    "print(neural_clf_score)"
   ]
  },
  {
   "cell_type": "code",
   "execution_count": 16,
   "metadata": {},
   "outputs": [
    {
     "name": "stdout",
     "output_type": "stream",
     "text": [
      "{'fit_time': 0.006232690811157226, 'score_time': 0.0031249284744262694, 'test_accuracy': 0.6937221081227039, 'test_recall': 0.7734600358990603, 'test_precision': 0.7056507704639539, 'test_f1': 0.7360602960163758}\n"
     ]
    }
   ],
   "source": [
    "#Decision Tree\n",
    "from sklearn.tree import DecisionTreeClassifier\n",
    "decisionTree = DecisionTreeClassifier()\n",
    "cross_val_scores = cross_validate(decisionTree, X, y, cv=fold_count, scoring=scoring)\n",
    "decisionTree_clf_score = mean_score(cross_val_scores)\n",
    "print(decisionTree_clf_score)"
   ]
  },
  {
   "cell_type": "code",
   "execution_count": 17,
   "metadata": {},
   "outputs": [
    {
     "name": "stdout",
     "output_type": "stream",
     "text": [
      "{'fit_time': 0.20666806697845458, 'score_time': 0.01364431381225586, 'test_accuracy': 0.6620641012003633, 'test_recall': 0.7603101573223525, 'test_precision': 0.6742858128416702, 'test_f1': 0.7131421086505628}\n"
     ]
    }
   ],
   "source": [
    "# Ada Boost\n",
    "from sklearn.ensemble import AdaBoostClassifier\n",
    "adaBoost = AdaBoostClassifier()\n",
    "cross_val_scores = cross_validate(adaBoost, X, y, cv=fold_count, scoring=scoring)\n",
    "adaBoost_clf_score = mean_score(cross_val_scores)\n",
    "print(adaBoost_clf_score)"
   ]
  },
  {
   "cell_type": "code",
   "execution_count": 18,
   "metadata": {},
   "outputs": [
    {
     "name": "stdout",
     "output_type": "stream",
     "text": [
      "{'fit_time': 4.123149275779724, 'score_time': 0.8505511999130249, 'test_accuracy': 0.6908292080220599, 'test_recall': 0.7715117199873298, 'test_precision': 0.7028243834392265, 'test_f1': 0.7334587276740864}\n"
     ]
    }
   ],
   "source": [
    "#SVM\n",
    "from sklearn.svm import SVC\n",
    "svc = SVC()\n",
    "cross_val_scores = cross_validate(svc, X, y, cv=fold_count, scoring=scoring)\n",
    "svc_clf_score = mean_score(cross_val_scores)\n",
    "print(svc_clf_score)"
   ]
  },
  {
   "cell_type": "code",
   "execution_count": 19,
   "metadata": {},
   "outputs": [
    {
     "name": "stdout",
     "output_type": "stream",
     "text": [
      "{'fit_time': 2.0636035919189455, 'score_time': 0.13997170925140381, 'test_accuracy': 0.6942655036698223, 'test_recall': 0.7789818920916481, 'test_precision': 0.7041112430172259, 'test_f1': 0.7377203073542095}\n"
     ]
    }
   ],
   "source": [
    "#Bagging Classifier Random Forest\n",
    "from sklearn.ensemble import BaggingClassifier\n",
    "bagging = BaggingClassifier(RandomForestClassifier())\n",
    "cross_val_scores = cross_validate(bagging, X, y, cv=fold_count, scoring=scoring)\n",
    "bagging_clf_score = mean_score(cross_val_scores)\n",
    "print(bagging_clf_score)"
   ]
  },
  {
   "cell_type": "code",
   "execution_count": 20,
   "metadata": {},
   "outputs": [
    {
     "name": "stdout",
     "output_type": "stream",
     "text": [
      "{'fit_time': 0.04023153781890869, 'score_time': 0.004218387603759766, 'test_accuracy': 0.6909187238673464, 'test_recall': 0.778007338190265, 'test_precision': 0.7007659470025981, 'test_f1': 0.7352496590019008}\n"
     ]
    }
   ],
   "source": [
    "#Bagging Decision Tree\n",
    "bagging = BaggingClassifier(DecisionTreeClassifier())\n",
    "cross_val_scores = cross_validate(bagging, X, y, cv=fold_count, scoring=scoring)\n",
    "bagging_clf_score = mean_score(cross_val_scores)\n",
    "print(bagging_clf_score)"
   ]
  },
  {
   "cell_type": "code",
   "execution_count": 21,
   "metadata": {},
   "outputs": [
    {
     "name": "stdout",
     "output_type": "stream",
     "text": [
      "{'fit_time': 1.3571698904037475, 'score_time': 0.07782893180847168, 'test_accuracy': 0.6623355125886772, 'test_recall': 0.7596605427093233, 'test_precision': 0.6747966610562148, 'test_f1': 0.7131272285516654}\n"
     ]
    }
   ],
   "source": [
    "#Bagging Ada Boost\n",
    "bagging = BaggingClassifier(AdaBoostClassifier())\n",
    "cross_val_scores = cross_validate(bagging, X, y, cv=fold_count, scoring=scoring)\n",
    "bagging_clf_score = mean_score(cross_val_scores)\n",
    "print(bagging_clf_score)"
   ]
  },
  {
   "cell_type": "code",
   "execution_count": 22,
   "metadata": {},
   "outputs": [
    {
     "name": "stdout",
     "output_type": "stream",
     "text": [
      "{'fit_time': 17.25353674888611, 'score_time': 5.766558241844177, 'test_accuracy': 0.6920953581042933, 'test_recall': 0.7762245275050152, 'test_precision': 0.7025374316801563, 'test_f1': 0.7356582918703124}\n"
     ]
    }
   ],
   "source": [
    "#Bagging SVM\n",
    "bagging = BaggingClassifier(SVC())\n",
    "cross_val_scores = cross_validate(bagging, X, y, cv=fold_count, scoring=scoring)\n",
    "bagging_clf_score = mean_score(cross_val_scores)\n",
    "print(bagging_clf_score)"
   ]
  },
  {
   "cell_type": "markdown",
   "metadata": {},
   "source": [
    "<h3 align=\"center\">Prueba con las Terceras 10 Características Relevantes</h3>"
   ]
  },
  {
   "cell_type": "code",
   "execution_count": 23,
   "metadata": {},
   "outputs": [
    {
     "data": {
      "text/html": [
       "<div>\n",
       "<style scoped>\n",
       "    .dataframe tbody tr th:only-of-type {\n",
       "        vertical-align: middle;\n",
       "    }\n",
       "\n",
       "    .dataframe tbody tr th {\n",
       "        vertical-align: top;\n",
       "    }\n",
       "\n",
       "    .dataframe thead th {\n",
       "        text-align: right;\n",
       "    }\n",
       "</style>\n",
       "<table border=\"1\" class=\"dataframe\">\n",
       "  <thead>\n",
       "    <tr style=\"text-align: right;\">\n",
       "      <th></th>\n",
       "      <th>on_mouseover</th>\n",
       "      <th>web_traffic</th>\n",
       "      <th>Shortining_Service</th>\n",
       "      <th>Domain_registeration_length</th>\n",
       "      <th>HTTPS_token</th>\n",
       "      <th>Submitting_to_email</th>\n",
       "      <th>Page_Rank</th>\n",
       "      <th>Statistical_report</th>\n",
       "      <th>having_Sub_Domain</th>\n",
       "      <th>Links_pointing_to_page</th>\n",
       "      <th>Result</th>\n",
       "    </tr>\n",
       "    <tr>\n",
       "      <th>index</th>\n",
       "      <th></th>\n",
       "      <th></th>\n",
       "      <th></th>\n",
       "      <th></th>\n",
       "      <th></th>\n",
       "      <th></th>\n",
       "      <th></th>\n",
       "      <th></th>\n",
       "      <th></th>\n",
       "      <th></th>\n",
       "      <th></th>\n",
       "    </tr>\n",
       "  </thead>\n",
       "  <tbody>\n",
       "    <tr>\n",
       "      <th>1</th>\n",
       "      <td>1</td>\n",
       "      <td>-1</td>\n",
       "      <td>1</td>\n",
       "      <td>-1</td>\n",
       "      <td>-1</td>\n",
       "      <td>-1</td>\n",
       "      <td>-1</td>\n",
       "      <td>-1</td>\n",
       "      <td>-1</td>\n",
       "      <td>1</td>\n",
       "      <td>-1</td>\n",
       "    </tr>\n",
       "    <tr>\n",
       "      <th>2</th>\n",
       "      <td>1</td>\n",
       "      <td>0</td>\n",
       "      <td>1</td>\n",
       "      <td>-1</td>\n",
       "      <td>-1</td>\n",
       "      <td>1</td>\n",
       "      <td>-1</td>\n",
       "      <td>1</td>\n",
       "      <td>0</td>\n",
       "      <td>1</td>\n",
       "      <td>-1</td>\n",
       "    </tr>\n",
       "    <tr>\n",
       "      <th>3</th>\n",
       "      <td>1</td>\n",
       "      <td>1</td>\n",
       "      <td>1</td>\n",
       "      <td>-1</td>\n",
       "      <td>-1</td>\n",
       "      <td>-1</td>\n",
       "      <td>-1</td>\n",
       "      <td>-1</td>\n",
       "      <td>-1</td>\n",
       "      <td>0</td>\n",
       "      <td>-1</td>\n",
       "    </tr>\n",
       "    <tr>\n",
       "      <th>4</th>\n",
       "      <td>1</td>\n",
       "      <td>1</td>\n",
       "      <td>1</td>\n",
       "      <td>1</td>\n",
       "      <td>-1</td>\n",
       "      <td>1</td>\n",
       "      <td>-1</td>\n",
       "      <td>1</td>\n",
       "      <td>-1</td>\n",
       "      <td>-1</td>\n",
       "      <td>-1</td>\n",
       "    </tr>\n",
       "    <tr>\n",
       "      <th>5</th>\n",
       "      <td>-1</td>\n",
       "      <td>0</td>\n",
       "      <td>-1</td>\n",
       "      <td>-1</td>\n",
       "      <td>1</td>\n",
       "      <td>1</td>\n",
       "      <td>-1</td>\n",
       "      <td>1</td>\n",
       "      <td>1</td>\n",
       "      <td>1</td>\n",
       "      <td>1</td>\n",
       "    </tr>\n",
       "  </tbody>\n",
       "</table>\n",
       "</div>"
      ],
      "text/plain": [
       "       on_mouseover  web_traffic  Shortining_Service  \\\n",
       "index                                                  \n",
       "1                 1           -1                   1   \n",
       "2                 1            0                   1   \n",
       "3                 1            1                   1   \n",
       "4                 1            1                   1   \n",
       "5                -1            0                  -1   \n",
       "\n",
       "       Domain_registeration_length  HTTPS_token  Submitting_to_email  \\\n",
       "index                                                                  \n",
       "1                               -1           -1                   -1   \n",
       "2                               -1           -1                    1   \n",
       "3                               -1           -1                   -1   \n",
       "4                                1           -1                    1   \n",
       "5                               -1            1                    1   \n",
       "\n",
       "       Page_Rank  Statistical_report  having_Sub_Domain  \\\n",
       "index                                                     \n",
       "1             -1                  -1                 -1   \n",
       "2             -1                   1                  0   \n",
       "3             -1                  -1                 -1   \n",
       "4             -1                   1                 -1   \n",
       "5             -1                   1                  1   \n",
       "\n",
       "       Links_pointing_to_page  Result  \n",
       "index                                  \n",
       "1                           1      -1  \n",
       "2                           1      -1  \n",
       "3                           0      -1  \n",
       "4                          -1      -1  \n",
       "5                           1       1  "
      ]
     },
     "execution_count": 23,
     "metadata": {},
     "output_type": "execute_result"
    }
   ],
   "source": [
    "#Leemos el dataset con las Segundas 10 características\n",
    "df = pd.read_csv(\"10x3dataset.csv\",index_col=0)\n",
    "#df = sklearn.utils.shuffle(df)\n",
    "X = df.drop(\"Result\",axis=1).values\n",
    "X = preprocessing.scale(X)\n",
    "y = df['Result'].values\n",
    "df.head()"
   ]
  },
  {
   "cell_type": "code",
   "execution_count": 24,
   "id": "3702abac",
   "metadata": {},
   "outputs": [
    {
     "name": "stdout",
     "output_type": "stream",
     "text": [
      "{'fit_time': 0.4967059850692749, 'score_time': 0.0310924768447876, 'test_accuracy': 0.7952784891950937, 'test_recall': 0.8559399746594867, 'test_precision': 0.7972411216692442, 'test_f1': 0.8243851010126187}\n"
     ]
    }
   ],
   "source": [
    "#Random Forest\n",
    "from sklearn.ensemble import RandomForestClassifier\n",
    "rforest_clf = RandomForestClassifier()\n",
    "cross_val_scores = cross_validate(rforest_clf, X, y, cv=10, scoring = scoring)\n",
    "rforest_clf_score = mean_score(cross_val_scores)\n",
    "print(rforest_clf_score)"
   ]
  },
  {
   "cell_type": "code",
   "execution_count": 25,
   "id": "e44e202c",
   "metadata": {},
   "outputs": [
    {
     "name": "stderr",
     "output_type": "stream",
     "text": [
      "C:\\Users\\Usuario\\anaconda3\\lib\\site-packages\\sklearn\\neural_network\\_multilayer_perceptron.py:702: ConvergenceWarning: Stochastic Optimizer: Maximum iterations (500) reached and the optimization hasn't converged yet.\n",
      "  warnings.warn(\n"
     ]
    },
    {
     "name": "stdout",
     "output_type": "stream",
     "text": [
      "{'fit_time': 7.672698950767517, 'score_time': 0.004298710823059082, 'test_accuracy': 0.7773691014867486, 'test_recall': 0.8424643649033893, 'test_precision': 0.7812838854348636, 'test_f1': 0.8093212330488996}\n"
     ]
    }
   ],
   "source": [
    "#Multi-layer Perceptron classifier\n",
    "from sklearn.neural_network import MLPClassifier\n",
    "neural_clf=MLPClassifier(hidden_layer_sizes=(33,),max_iter=500)\n",
    "cross_val_scores = cross_validate(neural_clf, X, y, cv=fold_count, scoring=scoring)\n",
    "neural_clf_score = mean_score(cross_val_scores)\n",
    "print(neural_clf_score)"
   ]
  },
  {
   "cell_type": "code",
   "execution_count": 26,
   "id": "41bef061",
   "metadata": {},
   "outputs": [
    {
     "name": "stdout",
     "output_type": "stream",
     "text": [
      "{'fit_time': 0.00950186252593994, 'score_time': 0.0038994789123535157, 'test_accuracy': 0.7927447161922218, 'test_recall': 0.8470092915214866, 'test_precision': 0.7986644091809396, 'test_f1': 0.8210417363537278}\n"
     ]
    }
   ],
   "source": [
    "#Decision Tree\n",
    "from sklearn.tree import DecisionTreeClassifier\n",
    "decisionTree = DecisionTreeClassifier()\n",
    "cross_val_scores = cross_validate(decisionTree, X, y, cv=fold_count, scoring=scoring)\n",
    "decisionTree_clf_score = mean_score(cross_val_scores)\n",
    "print(decisionTree_clf_score)"
   ]
  },
  {
   "cell_type": "code",
   "execution_count": 27,
   "id": "84c02451",
   "metadata": {},
   "outputs": [
    {
     "name": "stdout",
     "output_type": "stream",
     "text": [
      "{'fit_time': 0.2566248416900635, 'score_time': 0.016883444786071778, 'test_accuracy': 0.7537604837455918, 'test_recall': 0.8223387181923767, 'test_precision': 0.7638390912871416, 'test_f1': 0.7894843555939137}\n"
     ]
    }
   ],
   "source": [
    "# Ada Boost\n",
    "from sklearn.ensemble import AdaBoostClassifier\n",
    "adaBoost = AdaBoostClassifier()\n",
    "cross_val_scores = cross_validate(adaBoost, X, y, cv=fold_count, scoring=scoring)\n",
    "adaBoost_clf_score = mean_score(cross_val_scores)\n",
    "print(adaBoost_clf_score)"
   ]
  },
  {
   "cell_type": "code",
   "execution_count": 28,
   "id": "42f257f6",
   "metadata": {},
   "outputs": [
    {
     "name": "stdout",
     "output_type": "stream",
     "text": [
      "{'fit_time': 3.8660719633102416, 'score_time': 0.782430100440979, 'test_accuracy': 0.777279667465818, 'test_recall': 0.8453904022806462, 'test_precision': 0.7801226739233371, 'test_f1': 0.8098306786931115}\n"
     ]
    }
   ],
   "source": [
    "#SVM\n",
    "from sklearn.svm import SVC\n",
    "svc = SVC()\n",
    "cross_val_scores = cross_validate(svc, X, y, cv=fold_count, scoring=scoring)\n",
    "svc_clf_score = mean_score(cross_val_scores)\n",
    "print(svc_clf_score)"
   ]
  },
  {
   "cell_type": "markdown",
   "id": "f09d119c",
   "metadata": {},
   "source": [
    "<h2 align=\"center\">Bagging<h2/>"
   ]
  },
  {
   "cell_type": "code",
   "execution_count": 29,
   "id": "a3ca4427",
   "metadata": {},
   "outputs": [
    {
     "name": "stdout",
     "output_type": "stream",
     "text": [
      "{'fit_time': 3.395113801956177, 'score_time': 0.22039275169372557, 'test_accuracy': 0.7932883572124079, 'test_recall': 0.8531815542181395, 'test_precision': 0.795998277972203, 'test_f1': 0.8224486963531701}\n"
     ]
    }
   ],
   "source": [
    "#Bagging Classifier Random Forest\n",
    "from sklearn.ensemble import BaggingClassifier\n",
    "bagging = BaggingClassifier(RandomForestClassifier())\n",
    "cross_val_scores = cross_validate(bagging, X, y, cv=fold_count, scoring=scoring)\n",
    "bagging_clf_score = mean_score(cross_val_scores)\n",
    "print(bagging_clf_score)"
   ]
  },
  {
   "cell_type": "code",
   "execution_count": 30,
   "id": "4d699b03",
   "metadata": {},
   "outputs": [
    {
     "name": "stdout",
     "output_type": "stream",
     "text": [
      "{'fit_time': 0.0714885950088501, 'score_time': 0.005613493919372559, 'test_accuracy': 0.792292227504439, 'test_recall': 0.8496077499736037, 'test_precision': 0.7966933326872738, 'test_f1': 0.8211553746630411}\n"
     ]
    }
   ],
   "source": [
    "#Bagging Decision Tree\n",
    "bagging = BaggingClassifier(DecisionTreeClassifier())\n",
    "cross_val_scores = cross_validate(bagging, X, y, cv=fold_count, scoring=scoring)\n",
    "bagging_clf_score = mean_score(cross_val_scores)\n",
    "print(bagging_clf_score)"
   ]
  },
  {
   "cell_type": "code",
   "execution_count": 31,
   "id": "3386b1cc",
   "metadata": {},
   "outputs": [
    {
     "name": "stdout",
     "output_type": "stream",
     "text": [
      "{'fit_time': 2.0151682615280153, 'score_time': 0.11133818626403809, 'test_accuracy': 0.7545747179105333, 'test_recall': 0.8218506493506494, 'test_precision': 0.7650284517438581, 'test_f1': 0.7899446682608348}\n"
     ]
    }
   ],
   "source": [
    "#Bagging Ada Boost\n",
    "bagging = BaggingClassifier(AdaBoostClassifier())\n",
    "cross_val_scores = cross_validate(bagging, X, y, cv=fold_count, scoring=scoring)\n",
    "bagging_clf_score = mean_score(cross_val_scores)\n",
    "print(bagging_clf_score)"
   ]
  },
  {
   "cell_type": "code",
   "execution_count": 32,
   "id": "29d705cd",
   "metadata": {},
   "outputs": [
    {
     "name": "stdout",
     "output_type": "stream",
     "text": [
      "{'fit_time': 10.4352117061615, 'score_time': 2.9635363101959227, 'test_accuracy': 0.7808089974061679, 'test_recall': 0.8439275155738569, 'test_precision': 0.7846767879844769, 'test_f1': 0.8117880673120353}\n"
     ]
    }
   ],
   "source": [
    "#Bagging SVM\n",
    "bagging = BaggingClassifier(SVC())\n",
    "cross_val_scores = cross_validate(bagging, X, y, cv=fold_count, scoring=scoring)\n",
    "bagging_clf_score = mean_score(cross_val_scores)\n",
    "print(bagging_clf_score)"
   ]
  },
  {
   "cell_type": "markdown",
   "metadata": {},
   "source": [
    "<h3 align=\"center\">Prueba con las Primeras 10 y las segundas 10 Características Relevantes</h3>"
   ]
  },
  {
   "cell_type": "code",
   "execution_count": 23,
   "metadata": {},
   "outputs": [
    {
     "data": {
      "text/html": [
       "<div>\n",
       "<style scoped>\n",
       "    .dataframe tbody tr th:only-of-type {\n",
       "        vertical-align: middle;\n",
       "    }\n",
       "\n",
       "    .dataframe tbody tr th {\n",
       "        vertical-align: top;\n",
       "    }\n",
       "\n",
       "    .dataframe thead th {\n",
       "        text-align: right;\n",
       "    }\n",
       "</style>\n",
       "<table border=\"1\" class=\"dataframe\">\n",
       "  <thead>\n",
       "    <tr style=\"text-align: right;\">\n",
       "      <th></th>\n",
       "      <th>haveIp</th>\n",
       "      <th>lengthUrl</th>\n",
       "      <th>haveAtSymbol</th>\n",
       "      <th>sslState</th>\n",
       "      <th>domainAge</th>\n",
       "      <th>slashDouble</th>\n",
       "      <th>anchorUrl</th>\n",
       "      <th>prefixSuffix</th>\n",
       "      <th>linksInTags</th>\n",
       "      <th>clicRigth</th>\n",
       "      <th>...</th>\n",
       "      <th>domainRegisterAge</th>\n",
       "      <th>httpsToken</th>\n",
       "      <th>emailInformation</th>\n",
       "      <th>pageRank</th>\n",
       "      <th>staticalInform</th>\n",
       "      <th>haveSubdomain</th>\n",
       "      <th>linksToPage</th>\n",
       "      <th>hasMD5</th>\n",
       "      <th>hasSHA256</th>\n",
       "      <th>result</th>\n",
       "    </tr>\n",
       "    <tr>\n",
       "      <th>Ord.</th>\n",
       "      <th></th>\n",
       "      <th></th>\n",
       "      <th></th>\n",
       "      <th></th>\n",
       "      <th></th>\n",
       "      <th></th>\n",
       "      <th></th>\n",
       "      <th></th>\n",
       "      <th></th>\n",
       "      <th></th>\n",
       "      <th></th>\n",
       "      <th></th>\n",
       "      <th></th>\n",
       "      <th></th>\n",
       "      <th></th>\n",
       "      <th></th>\n",
       "      <th></th>\n",
       "      <th></th>\n",
       "      <th></th>\n",
       "      <th></th>\n",
       "      <th></th>\n",
       "    </tr>\n",
       "  </thead>\n",
       "  <tbody>\n",
       "    <tr>\n",
       "      <th>0</th>\n",
       "      <td>1</td>\n",
       "      <td>1</td>\n",
       "      <td>1</td>\n",
       "      <td>1</td>\n",
       "      <td>-1</td>\n",
       "      <td>1</td>\n",
       "      <td>-1</td>\n",
       "      <td>1</td>\n",
       "      <td>0</td>\n",
       "      <td>-1</td>\n",
       "      <td>...</td>\n",
       "      <td>-1</td>\n",
       "      <td>1</td>\n",
       "      <td>-1</td>\n",
       "      <td>-1</td>\n",
       "      <td>1</td>\n",
       "      <td>-1</td>\n",
       "      <td>1</td>\n",
       "      <td>-1</td>\n",
       "      <td>-1</td>\n",
       "      <td>1</td>\n",
       "    </tr>\n",
       "    <tr>\n",
       "      <th>1</th>\n",
       "      <td>1</td>\n",
       "      <td>1</td>\n",
       "      <td>1</td>\n",
       "      <td>1</td>\n",
       "      <td>-1</td>\n",
       "      <td>1</td>\n",
       "      <td>-1</td>\n",
       "      <td>1</td>\n",
       "      <td>0</td>\n",
       "      <td>-1</td>\n",
       "      <td>...</td>\n",
       "      <td>-1</td>\n",
       "      <td>1</td>\n",
       "      <td>-1</td>\n",
       "      <td>-1</td>\n",
       "      <td>1</td>\n",
       "      <td>-1</td>\n",
       "      <td>-1</td>\n",
       "      <td>-1</td>\n",
       "      <td>-1</td>\n",
       "      <td>1</td>\n",
       "    </tr>\n",
       "    <tr>\n",
       "      <th>2</th>\n",
       "      <td>1</td>\n",
       "      <td>1</td>\n",
       "      <td>1</td>\n",
       "      <td>1</td>\n",
       "      <td>-1</td>\n",
       "      <td>1</td>\n",
       "      <td>-1</td>\n",
       "      <td>1</td>\n",
       "      <td>-1</td>\n",
       "      <td>-1</td>\n",
       "      <td>...</td>\n",
       "      <td>-1</td>\n",
       "      <td>1</td>\n",
       "      <td>-1</td>\n",
       "      <td>-1</td>\n",
       "      <td>1</td>\n",
       "      <td>-1</td>\n",
       "      <td>-1</td>\n",
       "      <td>-1</td>\n",
       "      <td>-1</td>\n",
       "      <td>1</td>\n",
       "    </tr>\n",
       "    <tr>\n",
       "      <th>3</th>\n",
       "      <td>1</td>\n",
       "      <td>-1</td>\n",
       "      <td>1</td>\n",
       "      <td>1</td>\n",
       "      <td>-1</td>\n",
       "      <td>1</td>\n",
       "      <td>-1</td>\n",
       "      <td>-1</td>\n",
       "      <td>-1</td>\n",
       "      <td>-1</td>\n",
       "      <td>...</td>\n",
       "      <td>-1</td>\n",
       "      <td>1</td>\n",
       "      <td>-1</td>\n",
       "      <td>-1</td>\n",
       "      <td>0</td>\n",
       "      <td>1</td>\n",
       "      <td>-1</td>\n",
       "      <td>-1</td>\n",
       "      <td>-1</td>\n",
       "      <td>1</td>\n",
       "    </tr>\n",
       "    <tr>\n",
       "      <th>4</th>\n",
       "      <td>1</td>\n",
       "      <td>1</td>\n",
       "      <td>1</td>\n",
       "      <td>1</td>\n",
       "      <td>-1</td>\n",
       "      <td>1</td>\n",
       "      <td>-1</td>\n",
       "      <td>1</td>\n",
       "      <td>1</td>\n",
       "      <td>-1</td>\n",
       "      <td>...</td>\n",
       "      <td>-1</td>\n",
       "      <td>1</td>\n",
       "      <td>-1</td>\n",
       "      <td>-1</td>\n",
       "      <td>1</td>\n",
       "      <td>0</td>\n",
       "      <td>-1</td>\n",
       "      <td>-1</td>\n",
       "      <td>-1</td>\n",
       "      <td>1</td>\n",
       "    </tr>\n",
       "  </tbody>\n",
       "</table>\n",
       "<p>5 rows × 33 columns</p>\n",
       "</div>"
      ],
      "text/plain": [
       "      haveIp  lengthUrl  haveAtSymbol  sslState  domainAge  slashDouble   \n",
       "Ord.                                                                      \n",
       "0          1          1             1         1         -1            1  \\\n",
       "1          1          1             1         1         -1            1   \n",
       "2          1          1             1         1         -1            1   \n",
       "3          1         -1             1         1         -1            1   \n",
       "4          1          1             1         1         -1            1   \n",
       "\n",
       "      anchorUrl  prefixSuffix  linksInTags  clicRigth  ...  domainRegisterAge   \n",
       "Ord.                                                   ...                      \n",
       "0            -1             1            0         -1  ...                 -1  \\\n",
       "1            -1             1            0         -1  ...                 -1   \n",
       "2            -1             1           -1         -1  ...                 -1   \n",
       "3            -1            -1           -1         -1  ...                 -1   \n",
       "4            -1             1            1         -1  ...                 -1   \n",
       "\n",
       "      httpsToken  emailInformation  pageRank  staticalInform  haveSubdomain   \n",
       "Ord.                                                                          \n",
       "0              1                -1        -1               1             -1  \\\n",
       "1              1                -1        -1               1             -1   \n",
       "2              1                -1        -1               1             -1   \n",
       "3              1                -1        -1               0              1   \n",
       "4              1                -1        -1               1              0   \n",
       "\n",
       "      linksToPage  hasMD5  hasSHA256  result  \n",
       "Ord.                                          \n",
       "0               1      -1         -1       1  \n",
       "1              -1      -1         -1       1  \n",
       "2              -1      -1         -1       1  \n",
       "3              -1      -1         -1       1  \n",
       "4              -1      -1         -1       1  \n",
       "\n",
       "[5 rows x 33 columns]"
      ]
     },
     "execution_count": 23,
     "metadata": {},
     "output_type": "execute_result"
    }
   ],
   "source": [
    "df1 = pd.read_csv(\"/Users/denniscaisa/Desktop/DENNIS/TITULACION/Documentos/Separacion de Caracteristicas/30Features/Dataset_Legitime_AllFeatures_30x1.csv\",index_col=0)\n",
    "df1 = df1.drop(\"result\",axis=1)\n",
    "df2 = pd.read_csv(\"/Users/denniscaisa/Desktop/DENNIS/TITULACION/Documentos/Separacion de Caracteristicas/1Feature/Dataset_Legitime_4x1.csv\",index_col=0)\n",
    "df = pd.concat([df1, df2], axis=1)\n",
    "X = df.drop(\"result\",axis=1).values\n",
    "X = preprocessing.scale(X)\n",
    "y = df['result'].values\n",
    "df.head()"
   ]
  },
  {
   "cell_type": "code",
   "execution_count": 24,
   "id": "3702abac",
   "metadata": {},
   "outputs": [
    {
     "name": "stdout",
     "output_type": "stream",
     "text": [
      "{'fit_time': 0.24390969753265382, 'score_time': 0.004350135326385498, 'test_accuracy': 0.8367065695119131, 'test_recall': 0.9623152883089402, 'test_precision': 0.8534865113392172, 'test_f1': 0.9036884129244726}\n"
     ]
    }
   ],
   "source": [
    "#Random Forest\n",
    "from sklearn.ensemble import RandomForestClassifier\n",
    "rforest_clf = RandomForestClassifier()\n",
    "cross_val_scores = cross_validate(rforest_clf, X, y, cv=100, scoring = scoring)\n",
    "rforest_clf_score = mean_score(cross_val_scores)\n",
    "print(rforest_clf_score)"
   ]
  },
  {
   "cell_type": "code",
   "execution_count": 35,
   "id": "e44e202c",
   "metadata": {},
   "outputs": [
    {
     "name": "stdout",
     "output_type": "stream",
     "text": [
      "{'fit_time': 6.967872786521911, 'score_time': 0.00350804328918457, 'test_accuracy': 0.9494344300524494, 'test_recall': 0.9626435962411571, 'test_precision': 0.9475156978453171, 'test_f1': 0.9549715532276919}\n"
     ]
    }
   ],
   "source": [
    "#Multi-layer Perceptron classifier\n",
    "from sklearn.neural_network import MLPClassifier\n",
    "neural_clf=MLPClassifier(hidden_layer_sizes=(33,),max_iter=500)\n",
    "cross_val_scores = cross_validate(neural_clf, X, y, cv=fold_count, scoring=scoring)\n",
    "neural_clf_score = mean_score(cross_val_scores)\n",
    "print(neural_clf_score)"
   ]
  },
  {
   "cell_type": "code",
   "execution_count": 36,
   "id": "41bef061",
   "metadata": {},
   "outputs": [
    {
     "name": "stdout",
     "output_type": "stream",
     "text": [
      "{'fit_time': 0.012100124359130859, 'score_time': 0.0030058622360229492, 'test_accuracy': 0.9487092207866594, 'test_recall': 0.9603695491500369, 'test_precision': 0.9483223460925577, 'test_f1': 0.9542477555731962}\n"
     ]
    }
   ],
   "source": [
    "#Decision Tree\n",
    "from sklearn.tree import DecisionTreeClassifier\n",
    "decisionTree = DecisionTreeClassifier()\n",
    "cross_val_scores = cross_validate(decisionTree, X, y, cv=fold_count, scoring=scoring)\n",
    "decisionTree_clf_score = mean_score(cross_val_scores)\n",
    "print(decisionTree_clf_score)"
   ]
  },
  {
   "cell_type": "code",
   "execution_count": 37,
   "id": "84c02451",
   "metadata": {},
   "outputs": [
    {
     "name": "stdout",
     "output_type": "stream",
     "text": [
      "{'fit_time': 0.19777364730834962, 'score_time': 0.011052227020263672, 'test_accuracy': 0.9272742670583327, 'test_recall': 0.9563097877732025, 'test_precision': 0.9168758783393678, 'test_f1': 0.9361267449745629}\n"
     ]
    }
   ],
   "source": [
    "# Ada Boost\n",
    "from sklearn.ensemble import AdaBoostClassifier\n",
    "adaBoost = AdaBoostClassifier()\n",
    "cross_val_scores = cross_validate(adaBoost, X, y, cv=fold_count, scoring=scoring)\n",
    "adaBoost_clf_score = mean_score(cross_val_scores)\n",
    "print(adaBoost_clf_score)"
   ]
  },
  {
   "cell_type": "code",
   "execution_count": 38,
   "id": "42f257f6",
   "metadata": {},
   "outputs": [
    {
     "name": "stdout",
     "output_type": "stream",
     "text": [
      "{'fit_time': 0.9524683952331543, 'score_time': 0.195196270942688, 'test_accuracy': 0.9395762316611164, 'test_recall': 0.9670296167247386, 'test_precision': 0.9277346703260452, 'test_f1': 0.9469229992150525}\n"
     ]
    }
   ],
   "source": [
    "#SVM\n",
    "from sklearn.svm import SVC\n",
    "svc = SVC()\n",
    "cross_val_scores = cross_validate(svc, X, y, cv=fold_count, scoring=scoring)\n",
    "svc_clf_score = mean_score(cross_val_scores)\n",
    "print(svc_clf_score)"
   ]
  },
  {
   "cell_type": "markdown",
   "id": "f09d119c",
   "metadata": {},
   "source": [
    "<h2 align=\"center\">Bagging<h2/>"
   ]
  },
  {
   "cell_type": "code",
   "execution_count": 39,
   "id": "a3ca4427",
   "metadata": {},
   "outputs": [
    {
     "name": "stdout",
     "output_type": "stream",
     "text": [
      "{'fit_time': 2.6688663482666017, 'score_time': 0.17635490894317626, 'test_accuracy': 0.949976270936807, 'test_recall': 0.9642667089008553, 'test_precision': 0.9469860904715777, 'test_f1': 0.9554981938672957}\n"
     ]
    }
   ],
   "source": [
    "#Bagging Classifier Random Forest\n",
    "from sklearn.ensemble import BaggingClassifier\n",
    "bagging = BaggingClassifier(RandomForestClassifier())\n",
    "cross_val_scores = cross_validate(bagging, X, y, cv=fold_count, scoring=scoring)\n",
    "bagging_clf_score = mean_score(cross_val_scores)\n",
    "print(bagging_clf_score)"
   ]
  },
  {
   "cell_type": "code",
   "execution_count": 40,
   "id": "4d699b03",
   "metadata": {},
   "outputs": [
    {
     "name": "stdout",
     "output_type": "stream",
     "text": [
      "{'fit_time': 0.07510747909545898, 'score_time': 0.004298520088195801, 'test_accuracy': 0.9503378527652542, 'test_recall': 0.963293474817865, 'test_precision': 0.94844232137105, 'test_f1': 0.9557532390198222}\n"
     ]
    }
   ],
   "source": [
    "#Bagging Decision Tree\n",
    "bagging = BaggingClassifier(DecisionTreeClassifier())\n",
    "cross_val_scores = cross_validate(bagging, X, y, cv=fold_count, scoring=scoring)\n",
    "bagging_clf_score = mean_score(cross_val_scores)\n",
    "print(bagging_clf_score)"
   ]
  },
  {
   "cell_type": "code",
   "execution_count": 41,
   "id": "3386b1cc",
   "metadata": {},
   "outputs": [
    {
     "name": "stdout",
     "output_type": "stream",
     "text": [
      "{'fit_time': 1.7558058500289917, 'score_time': 0.09948444366455078, 'test_accuracy': 0.9265505306309476, 'test_recall': 0.9558225108225109, 'test_precision': 0.9161416562499823, 'test_f1': 0.9355086409172794}\n"
     ]
    }
   ],
   "source": [
    "#Bagging Ada Boost\n",
    "bagging = BaggingClassifier(AdaBoostClassifier())\n",
    "cross_val_scores = cross_validate(bagging, X, y, cv=fold_count, scoring=scoring)\n",
    "bagging_clf_score = mean_score(cross_val_scores)\n",
    "print(bagging_clf_score)"
   ]
  },
  {
   "cell_type": "code",
   "execution_count": 42,
   "id": "29d705cd",
   "metadata": {},
   "outputs": [
    {
     "name": "stdout",
     "output_type": "stream",
     "text": [
      "{'fit_time': 3.8781696557998657, 'score_time': 1.2764618635177611, 'test_accuracy': 0.9410234590428187, 'test_recall': 0.9667049414000634, 'test_precision': 0.9303102928952031, 'test_f1': 0.9481096466696869}\n"
     ]
    }
   ],
   "source": [
    "#Bagging SVM\n",
    "bagging = BaggingClassifier(SVC())\n",
    "cross_val_scores = cross_validate(bagging, X, y, cv=fold_count, scoring=scoring)\n",
    "bagging_clf_score = mean_score(cross_val_scores)\n",
    "print(bagging_clf_score)"
   ]
  },
  {
   "cell_type": "markdown",
   "metadata": {},
   "source": [
    "<h3 align=\"center\">Prueba con las Primeras 10 y las Terceras 10 Características Relevantes</h3>"
   ]
  },
  {
   "cell_type": "code",
   "execution_count": 43,
   "metadata": {},
   "outputs": [
    {
     "data": {
      "text/html": [
       "<div>\n",
       "<style scoped>\n",
       "    .dataframe tbody tr th:only-of-type {\n",
       "        vertical-align: middle;\n",
       "    }\n",
       "\n",
       "    .dataframe tbody tr th {\n",
       "        vertical-align: top;\n",
       "    }\n",
       "\n",
       "    .dataframe thead th {\n",
       "        text-align: right;\n",
       "    }\n",
       "</style>\n",
       "<table border=\"1\" class=\"dataframe\">\n",
       "  <thead>\n",
       "    <tr style=\"text-align: right;\">\n",
       "      <th></th>\n",
       "      <th>having_IPhaving_IP_Address</th>\n",
       "      <th>URLURL_Length</th>\n",
       "      <th>having_At_Symbol</th>\n",
       "      <th>SSLfinal_State</th>\n",
       "      <th>age_of_domain</th>\n",
       "      <th>double_slash_redirecting</th>\n",
       "      <th>URL_of_Anchor</th>\n",
       "      <th>Prefix_Suffix</th>\n",
       "      <th>Links_in_tags</th>\n",
       "      <th>RightClick</th>\n",
       "      <th>...</th>\n",
       "      <th>web_traffic</th>\n",
       "      <th>Shortining_Service</th>\n",
       "      <th>Domain_registeration_length</th>\n",
       "      <th>HTTPS_token</th>\n",
       "      <th>Submitting_to_email</th>\n",
       "      <th>Page_Rank</th>\n",
       "      <th>Statistical_report</th>\n",
       "      <th>having_Sub_Domain</th>\n",
       "      <th>Links_pointing_to_page</th>\n",
       "      <th>Result</th>\n",
       "    </tr>\n",
       "    <tr>\n",
       "      <th>index</th>\n",
       "      <th></th>\n",
       "      <th></th>\n",
       "      <th></th>\n",
       "      <th></th>\n",
       "      <th></th>\n",
       "      <th></th>\n",
       "      <th></th>\n",
       "      <th></th>\n",
       "      <th></th>\n",
       "      <th></th>\n",
       "      <th></th>\n",
       "      <th></th>\n",
       "      <th></th>\n",
       "      <th></th>\n",
       "      <th></th>\n",
       "      <th></th>\n",
       "      <th></th>\n",
       "      <th></th>\n",
       "      <th></th>\n",
       "      <th></th>\n",
       "      <th></th>\n",
       "    </tr>\n",
       "  </thead>\n",
       "  <tbody>\n",
       "    <tr>\n",
       "      <th>1</th>\n",
       "      <td>-1</td>\n",
       "      <td>1</td>\n",
       "      <td>1</td>\n",
       "      <td>-1</td>\n",
       "      <td>-1</td>\n",
       "      <td>-1</td>\n",
       "      <td>-1</td>\n",
       "      <td>-1</td>\n",
       "      <td>1</td>\n",
       "      <td>1</td>\n",
       "      <td>...</td>\n",
       "      <td>-1</td>\n",
       "      <td>1</td>\n",
       "      <td>-1</td>\n",
       "      <td>-1</td>\n",
       "      <td>-1</td>\n",
       "      <td>-1</td>\n",
       "      <td>-1</td>\n",
       "      <td>-1</td>\n",
       "      <td>1</td>\n",
       "      <td>-1</td>\n",
       "    </tr>\n",
       "    <tr>\n",
       "      <th>2</th>\n",
       "      <td>1</td>\n",
       "      <td>1</td>\n",
       "      <td>1</td>\n",
       "      <td>1</td>\n",
       "      <td>-1</td>\n",
       "      <td>1</td>\n",
       "      <td>0</td>\n",
       "      <td>-1</td>\n",
       "      <td>-1</td>\n",
       "      <td>1</td>\n",
       "      <td>...</td>\n",
       "      <td>0</td>\n",
       "      <td>1</td>\n",
       "      <td>-1</td>\n",
       "      <td>-1</td>\n",
       "      <td>1</td>\n",
       "      <td>-1</td>\n",
       "      <td>1</td>\n",
       "      <td>0</td>\n",
       "      <td>1</td>\n",
       "      <td>-1</td>\n",
       "    </tr>\n",
       "    <tr>\n",
       "      <th>3</th>\n",
       "      <td>1</td>\n",
       "      <td>0</td>\n",
       "      <td>1</td>\n",
       "      <td>-1</td>\n",
       "      <td>1</td>\n",
       "      <td>1</td>\n",
       "      <td>0</td>\n",
       "      <td>-1</td>\n",
       "      <td>-1</td>\n",
       "      <td>1</td>\n",
       "      <td>...</td>\n",
       "      <td>1</td>\n",
       "      <td>1</td>\n",
       "      <td>-1</td>\n",
       "      <td>-1</td>\n",
       "      <td>-1</td>\n",
       "      <td>-1</td>\n",
       "      <td>-1</td>\n",
       "      <td>-1</td>\n",
       "      <td>0</td>\n",
       "      <td>-1</td>\n",
       "    </tr>\n",
       "    <tr>\n",
       "      <th>4</th>\n",
       "      <td>1</td>\n",
       "      <td>0</td>\n",
       "      <td>1</td>\n",
       "      <td>-1</td>\n",
       "      <td>-1</td>\n",
       "      <td>1</td>\n",
       "      <td>0</td>\n",
       "      <td>-1</td>\n",
       "      <td>0</td>\n",
       "      <td>1</td>\n",
       "      <td>...</td>\n",
       "      <td>1</td>\n",
       "      <td>1</td>\n",
       "      <td>1</td>\n",
       "      <td>-1</td>\n",
       "      <td>1</td>\n",
       "      <td>-1</td>\n",
       "      <td>1</td>\n",
       "      <td>-1</td>\n",
       "      <td>-1</td>\n",
       "      <td>-1</td>\n",
       "    </tr>\n",
       "    <tr>\n",
       "      <th>5</th>\n",
       "      <td>1</td>\n",
       "      <td>0</td>\n",
       "      <td>1</td>\n",
       "      <td>1</td>\n",
       "      <td>-1</td>\n",
       "      <td>1</td>\n",
       "      <td>0</td>\n",
       "      <td>-1</td>\n",
       "      <td>0</td>\n",
       "      <td>1</td>\n",
       "      <td>...</td>\n",
       "      <td>0</td>\n",
       "      <td>-1</td>\n",
       "      <td>-1</td>\n",
       "      <td>1</td>\n",
       "      <td>1</td>\n",
       "      <td>-1</td>\n",
       "      <td>1</td>\n",
       "      <td>1</td>\n",
       "      <td>1</td>\n",
       "      <td>1</td>\n",
       "    </tr>\n",
       "  </tbody>\n",
       "</table>\n",
       "<p>5 rows × 21 columns</p>\n",
       "</div>"
      ],
      "text/plain": [
       "       having_IPhaving_IP_Address  URLURL_Length  having_At_Symbol  \\\n",
       "index                                                                \n",
       "1                              -1              1                 1   \n",
       "2                               1              1                 1   \n",
       "3                               1              0                 1   \n",
       "4                               1              0                 1   \n",
       "5                               1              0                 1   \n",
       "\n",
       "       SSLfinal_State  age_of_domain  double_slash_redirecting  URL_of_Anchor  \\\n",
       "index                                                                           \n",
       "1                  -1             -1                        -1             -1   \n",
       "2                   1             -1                         1              0   \n",
       "3                  -1              1                         1              0   \n",
       "4                  -1             -1                         1              0   \n",
       "5                   1             -1                         1              0   \n",
       "\n",
       "       Prefix_Suffix  Links_in_tags  RightClick  ...  web_traffic  \\\n",
       "index                                            ...                \n",
       "1                 -1              1           1  ...           -1   \n",
       "2                 -1             -1           1  ...            0   \n",
       "3                 -1             -1           1  ...            1   \n",
       "4                 -1              0           1  ...            1   \n",
       "5                 -1              0           1  ...            0   \n",
       "\n",
       "       Shortining_Service  Domain_registeration_length  HTTPS_token  \\\n",
       "index                                                                 \n",
       "1                       1                           -1           -1   \n",
       "2                       1                           -1           -1   \n",
       "3                       1                           -1           -1   \n",
       "4                       1                            1           -1   \n",
       "5                      -1                           -1            1   \n",
       "\n",
       "       Submitting_to_email  Page_Rank  Statistical_report  having_Sub_Domain  \\\n",
       "index                                                                          \n",
       "1                       -1         -1                  -1                 -1   \n",
       "2                        1         -1                   1                  0   \n",
       "3                       -1         -1                  -1                 -1   \n",
       "4                        1         -1                   1                 -1   \n",
       "5                        1         -1                   1                  1   \n",
       "\n",
       "       Links_pointing_to_page  Result  \n",
       "index                                  \n",
       "1                           1      -1  \n",
       "2                           1      -1  \n",
       "3                           0      -1  \n",
       "4                          -1      -1  \n",
       "5                           1       1  \n",
       "\n",
       "[5 rows x 21 columns]"
      ]
     },
     "execution_count": 43,
     "metadata": {},
     "output_type": "execute_result"
    }
   ],
   "source": [
    "df1 = pd.read_csv(\"10x1dataset.csv\",index_col=0)\n",
    "df1 = df1.drop(\"Result\",axis=1)\n",
    "df2 = pd.read_csv(\"10x3dataset.csv\",index_col=0)\n",
    "df = pd.concat([df1, df2], axis=1)\n",
    "X = df.drop(\"Result\",axis=1).values\n",
    "X = preprocessing.scale(X)\n",
    "y = df['Result'].values\n",
    "df.head()"
   ]
  },
  {
   "cell_type": "code",
   "execution_count": 44,
   "id": "3702abac",
   "metadata": {},
   "outputs": [
    {
     "name": "stdout",
     "output_type": "stream",
     "text": [
      "{'fit_time': 0.33889777660369874, 'score_time': 0.02019975185394287, 'test_accuracy': 0.9638135877525305, 'test_recall': 0.9730366381585895, 'test_precision': 0.9625862268999128, 'test_f1': 0.9677356119397225}\n"
     ]
    }
   ],
   "source": [
    "#Random Forest\n",
    "from sklearn.ensemble import RandomForestClassifier\n",
    "rforest_clf = RandomForestClassifier()\n",
    "cross_val_scores = cross_validate(rforest_clf, X, y, cv=10, scoring = scoring)\n",
    "rforest_clf_score = mean_score(cross_val_scores)\n",
    "print(rforest_clf_score)"
   ]
  },
  {
   "cell_type": "code",
   "execution_count": 45,
   "id": "e44e202c",
   "metadata": {},
   "outputs": [
    {
     "name": "stdout",
     "output_type": "stream",
     "text": [
      "{'fit_time': 7.672715139389038, 'score_time': 0.0029999256134033204, 'test_accuracy': 0.9578432736288283, 'test_recall': 0.9658916693063035, 'test_precision': 0.9588838866761542, 'test_f1': 0.9623266229102653}\n"
     ]
    }
   ],
   "source": [
    "#Multi-layer Perceptron classifier\n",
    "from sklearn.neural_network import MLPClassifier\n",
    "neural_clf=MLPClassifier(hidden_layer_sizes=(33,),max_iter=500)\n",
    "cross_val_scores = cross_validate(neural_clf, X, y, cv=fold_count, scoring=scoring)\n",
    "neural_clf_score = mean_score(cross_val_scores)\n",
    "print(neural_clf_score)"
   ]
  },
  {
   "cell_type": "code",
   "execution_count": 46,
   "id": "41bef061",
   "metadata": {},
   "outputs": [
    {
     "name": "stdout",
     "output_type": "stream",
     "text": [
      "{'fit_time': 0.013599061965942382, 'score_time': 0.0031014204025268553, 'test_accuracy': 0.956032336985427, 'test_recall': 0.9598798965262378, 'test_precision': 0.9612769205119914, 'test_f1': 0.9605170835052428}\n"
     ]
    }
   ],
   "source": [
    "#Decision Tree\n",
    "from sklearn.tree import DecisionTreeClassifier\n",
    "decisionTree = DecisionTreeClassifier()\n",
    "cross_val_scores = cross_validate(decisionTree, X, y, cv=fold_count, scoring=scoring)\n",
    "decisionTree_clf_score = mean_score(cross_val_scores)\n",
    "print(decisionTree_clf_score)"
   ]
  },
  {
   "cell_type": "code",
   "execution_count": 47,
   "id": "84c02451",
   "metadata": {},
   "outputs": [
    {
     "name": "stdout",
     "output_type": "stream",
     "text": [
      "{'fit_time': 0.20891237258911133, 'score_time': 0.011192512512207032, 'test_accuracy': 0.9266408647197926, 'test_recall': 0.9478647978038222, 'test_precision': 0.9227415510071661, 'test_f1': 0.9350686396669768}\n"
     ]
    }
   ],
   "source": [
    "# Ada Boost\n",
    "from sklearn.ensemble import AdaBoostClassifier\n",
    "adaBoost = AdaBoostClassifier()\n",
    "cross_val_scores = cross_validate(adaBoost, X, y, cv=fold_count, scoring=scoring)\n",
    "adaBoost_clf_score = mean_score(cross_val_scores)\n",
    "print(adaBoost_clf_score)"
   ]
  },
  {
   "cell_type": "code",
   "execution_count": 48,
   "id": "42f257f6",
   "metadata": {},
   "outputs": [
    {
     "name": "stdout",
     "output_type": "stream",
     "text": [
      "{'fit_time': 0.9110447883605957, 'score_time': 0.19236578941345214, 'test_accuracy': 0.94409727279422, 'test_recall': 0.9637794319501636, 'test_precision': 0.9377671500127575, 'test_f1': 0.9505375774457953}\n"
     ]
    }
   ],
   "source": [
    "#SVM\n",
    "from sklearn.svm import SVC\n",
    "svc = SVC()\n",
    "cross_val_scores = cross_validate(svc, X, y, cv=fold_count, scoring=scoring)\n",
    "svc_clf_score = mean_score(cross_val_scores)\n",
    "print(svc_clf_score)"
   ]
  },
  {
   "cell_type": "markdown",
   "id": "f09d119c",
   "metadata": {},
   "source": [
    "<h2 align=\"center\">Bagging<h2/>"
   ]
  },
  {
   "cell_type": "code",
   "execution_count": 49,
   "id": "a3ca4427",
   "metadata": {},
   "outputs": [
    {
     "name": "stdout",
     "output_type": "stream",
     "text": [
      "{'fit_time': 2.8107604503631594, 'score_time': 0.1802616834640503, 'test_accuracy': 0.9623661148977604, 'test_recall': 0.9719005384859043, 'test_precision': 0.961114491467159, 'test_f1': 0.9664412639543063}\n"
     ]
    }
   ],
   "source": [
    "#Bagging Classifier Random Forest\n",
    "from sklearn.ensemble import BaggingClassifier\n",
    "bagging = BaggingClassifier(RandomForestClassifier())\n",
    "cross_val_scores = cross_validate(bagging, X, y, cv=fold_count, scoring=scoring)\n",
    "bagging_clf_score = mean_score(cross_val_scores)\n",
    "print(bagging_clf_score)"
   ]
  },
  {
   "cell_type": "code",
   "execution_count": 50,
   "id": "4d699b03",
   "metadata": {},
   "outputs": [
    {
     "name": "stdout",
     "output_type": "stream",
     "text": [
      "{'fit_time': 0.0827681303024292, 'score_time': 0.004601240158081055, 'test_accuracy': 0.9614609738734832, 'test_recall': 0.9691386865167353, 'test_precision': 0.9621350310795744, 'test_f1': 0.9655689317986218}\n"
     ]
    }
   ],
   "source": [
    "#Bagging Decision Tree\n",
    "bagging = BaggingClassifier(DecisionTreeClassifier())\n",
    "cross_val_scores = cross_validate(bagging, X, y, cv=fold_count, scoring=scoring)\n",
    "bagging_clf_score = mean_score(cross_val_scores)\n",
    "print(bagging_clf_score)"
   ]
  },
  {
   "cell_type": "code",
   "execution_count": 51,
   "id": "3386b1cc",
   "metadata": {},
   "outputs": [
    {
     "name": "stdout",
     "output_type": "stream",
     "text": [
      "{'fit_time': 1.8096816062927246, 'score_time': 0.098227858543396, 'test_accuracy': 0.9264597874203236, 'test_recall': 0.9481889452011403, 'test_precision': 0.922223334391784, 'test_f1': 0.9349424378927298}\n"
     ]
    }
   ],
   "source": [
    "#Bagging Ada Boost\n",
    "bagging = BaggingClassifier(AdaBoostClassifier())\n",
    "cross_val_scores = cross_validate(bagging, X, y, cv=fold_count, scoring=scoring)\n",
    "bagging_clf_score = mean_score(cross_val_scores)\n",
    "print(bagging_clf_score)"
   ]
  },
  {
   "cell_type": "code",
   "execution_count": 52,
   "id": "29d705cd",
   "metadata": {},
   "outputs": [
    {
     "name": "stdout",
     "output_type": "stream",
     "text": [
      "{'fit_time': 3.9323193788528443, 'score_time': 1.2971555709838867, 'test_accuracy': 0.9431024522759446, 'test_recall': 0.9608560342096928, 'test_precision': 0.9386202084574695, 'test_f1': 0.9495432961049769}\n"
     ]
    }
   ],
   "source": [
    "#Bagging SVM\n",
    "bagging = BaggingClassifier(SVC())\n",
    "cross_val_scores = cross_validate(bagging, X, y, cv=fold_count, scoring=scoring)\n",
    "bagging_clf_score = mean_score(cross_val_scores)\n",
    "print(bagging_clf_score)"
   ]
  },
  {
   "cell_type": "markdown",
   "metadata": {},
   "source": [
    "<h3 align=\"center\">Prueba con las Segundas 10 y las Terceras 10 Características Relevantes</h3>"
   ]
  },
  {
   "cell_type": "code",
   "execution_count": 53,
   "metadata": {},
   "outputs": [
    {
     "data": {
      "text/html": [
       "<div>\n",
       "<style scoped>\n",
       "    .dataframe tbody tr th:only-of-type {\n",
       "        vertical-align: middle;\n",
       "    }\n",
       "\n",
       "    .dataframe tbody tr th {\n",
       "        vertical-align: top;\n",
       "    }\n",
       "\n",
       "    .dataframe thead th {\n",
       "        text-align: right;\n",
       "    }\n",
       "</style>\n",
       "<table border=\"1\" class=\"dataframe\">\n",
       "  <thead>\n",
       "    <tr style=\"text-align: right;\">\n",
       "      <th></th>\n",
       "      <th>popUpWidnow</th>\n",
       "      <th>Favicon</th>\n",
       "      <th>Abnormal_URL</th>\n",
       "      <th>Iframe</th>\n",
       "      <th>DNSRecord</th>\n",
       "      <th>Google_Index</th>\n",
       "      <th>port</th>\n",
       "      <th>Request_URL</th>\n",
       "      <th>SFH</th>\n",
       "      <th>Redirect</th>\n",
       "      <th>...</th>\n",
       "      <th>web_traffic</th>\n",
       "      <th>Shortining_Service</th>\n",
       "      <th>Domain_registeration_length</th>\n",
       "      <th>HTTPS_token</th>\n",
       "      <th>Submitting_to_email</th>\n",
       "      <th>Page_Rank</th>\n",
       "      <th>Statistical_report</th>\n",
       "      <th>having_Sub_Domain</th>\n",
       "      <th>Links_pointing_to_page</th>\n",
       "      <th>Result</th>\n",
       "    </tr>\n",
       "    <tr>\n",
       "      <th>index</th>\n",
       "      <th></th>\n",
       "      <th></th>\n",
       "      <th></th>\n",
       "      <th></th>\n",
       "      <th></th>\n",
       "      <th></th>\n",
       "      <th></th>\n",
       "      <th></th>\n",
       "      <th></th>\n",
       "      <th></th>\n",
       "      <th></th>\n",
       "      <th></th>\n",
       "      <th></th>\n",
       "      <th></th>\n",
       "      <th></th>\n",
       "      <th></th>\n",
       "      <th></th>\n",
       "      <th></th>\n",
       "      <th></th>\n",
       "      <th></th>\n",
       "      <th></th>\n",
       "    </tr>\n",
       "  </thead>\n",
       "  <tbody>\n",
       "    <tr>\n",
       "      <th>1</th>\n",
       "      <td>1</td>\n",
       "      <td>1</td>\n",
       "      <td>-1</td>\n",
       "      <td>1</td>\n",
       "      <td>-1</td>\n",
       "      <td>1</td>\n",
       "      <td>1</td>\n",
       "      <td>1</td>\n",
       "      <td>-1</td>\n",
       "      <td>0</td>\n",
       "      <td>...</td>\n",
       "      <td>-1</td>\n",
       "      <td>1</td>\n",
       "      <td>-1</td>\n",
       "      <td>-1</td>\n",
       "      <td>-1</td>\n",
       "      <td>-1</td>\n",
       "      <td>-1</td>\n",
       "      <td>-1</td>\n",
       "      <td>1</td>\n",
       "      <td>-1</td>\n",
       "    </tr>\n",
       "    <tr>\n",
       "      <th>2</th>\n",
       "      <td>1</td>\n",
       "      <td>1</td>\n",
       "      <td>1</td>\n",
       "      <td>1</td>\n",
       "      <td>-1</td>\n",
       "      <td>1</td>\n",
       "      <td>1</td>\n",
       "      <td>1</td>\n",
       "      <td>-1</td>\n",
       "      <td>0</td>\n",
       "      <td>...</td>\n",
       "      <td>0</td>\n",
       "      <td>1</td>\n",
       "      <td>-1</td>\n",
       "      <td>-1</td>\n",
       "      <td>1</td>\n",
       "      <td>-1</td>\n",
       "      <td>1</td>\n",
       "      <td>0</td>\n",
       "      <td>1</td>\n",
       "      <td>-1</td>\n",
       "    </tr>\n",
       "    <tr>\n",
       "      <th>3</th>\n",
       "      <td>1</td>\n",
       "      <td>1</td>\n",
       "      <td>-1</td>\n",
       "      <td>1</td>\n",
       "      <td>-1</td>\n",
       "      <td>1</td>\n",
       "      <td>1</td>\n",
       "      <td>1</td>\n",
       "      <td>-1</td>\n",
       "      <td>0</td>\n",
       "      <td>...</td>\n",
       "      <td>1</td>\n",
       "      <td>1</td>\n",
       "      <td>-1</td>\n",
       "      <td>-1</td>\n",
       "      <td>-1</td>\n",
       "      <td>-1</td>\n",
       "      <td>-1</td>\n",
       "      <td>-1</td>\n",
       "      <td>0</td>\n",
       "      <td>-1</td>\n",
       "    </tr>\n",
       "    <tr>\n",
       "      <th>4</th>\n",
       "      <td>1</td>\n",
       "      <td>1</td>\n",
       "      <td>1</td>\n",
       "      <td>1</td>\n",
       "      <td>-1</td>\n",
       "      <td>1</td>\n",
       "      <td>1</td>\n",
       "      <td>-1</td>\n",
       "      <td>-1</td>\n",
       "      <td>0</td>\n",
       "      <td>...</td>\n",
       "      <td>1</td>\n",
       "      <td>1</td>\n",
       "      <td>1</td>\n",
       "      <td>-1</td>\n",
       "      <td>1</td>\n",
       "      <td>-1</td>\n",
       "      <td>1</td>\n",
       "      <td>-1</td>\n",
       "      <td>-1</td>\n",
       "      <td>-1</td>\n",
       "    </tr>\n",
       "    <tr>\n",
       "      <th>5</th>\n",
       "      <td>-1</td>\n",
       "      <td>1</td>\n",
       "      <td>1</td>\n",
       "      <td>1</td>\n",
       "      <td>-1</td>\n",
       "      <td>1</td>\n",
       "      <td>1</td>\n",
       "      <td>1</td>\n",
       "      <td>-1</td>\n",
       "      <td>0</td>\n",
       "      <td>...</td>\n",
       "      <td>0</td>\n",
       "      <td>-1</td>\n",
       "      <td>-1</td>\n",
       "      <td>1</td>\n",
       "      <td>1</td>\n",
       "      <td>-1</td>\n",
       "      <td>1</td>\n",
       "      <td>1</td>\n",
       "      <td>1</td>\n",
       "      <td>1</td>\n",
       "    </tr>\n",
       "  </tbody>\n",
       "</table>\n",
       "<p>5 rows × 21 columns</p>\n",
       "</div>"
      ],
      "text/plain": [
       "       popUpWidnow  Favicon  Abnormal_URL  Iframe  DNSRecord  Google_Index  \\\n",
       "index                                                                        \n",
       "1                1        1            -1       1         -1             1   \n",
       "2                1        1             1       1         -1             1   \n",
       "3                1        1            -1       1         -1             1   \n",
       "4                1        1             1       1         -1             1   \n",
       "5               -1        1             1       1         -1             1   \n",
       "\n",
       "       port  Request_URL  SFH  Redirect  ...  web_traffic  Shortining_Service  \\\n",
       "index                                    ...                                    \n",
       "1         1            1   -1         0  ...           -1                   1   \n",
       "2         1            1   -1         0  ...            0                   1   \n",
       "3         1            1   -1         0  ...            1                   1   \n",
       "4         1           -1   -1         0  ...            1                   1   \n",
       "5         1            1   -1         0  ...            0                  -1   \n",
       "\n",
       "       Domain_registeration_length  HTTPS_token  Submitting_to_email  \\\n",
       "index                                                                  \n",
       "1                               -1           -1                   -1   \n",
       "2                               -1           -1                    1   \n",
       "3                               -1           -1                   -1   \n",
       "4                                1           -1                    1   \n",
       "5                               -1            1                    1   \n",
       "\n",
       "       Page_Rank  Statistical_report  having_Sub_Domain  \\\n",
       "index                                                     \n",
       "1             -1                  -1                 -1   \n",
       "2             -1                   1                  0   \n",
       "3             -1                  -1                 -1   \n",
       "4             -1                   1                 -1   \n",
       "5             -1                   1                  1   \n",
       "\n",
       "       Links_pointing_to_page  Result  \n",
       "index                                  \n",
       "1                           1      -1  \n",
       "2                           1      -1  \n",
       "3                           0      -1  \n",
       "4                          -1      -1  \n",
       "5                           1       1  \n",
       "\n",
       "[5 rows x 21 columns]"
      ]
     },
     "execution_count": 53,
     "metadata": {},
     "output_type": "execute_result"
    }
   ],
   "source": [
    "df1 = pd.read_csv(\"10x2dataset.csv\",index_col=0)\n",
    "df1 = df1.drop(\"Result\",axis=1)\n",
    "df2 = pd.read_csv(\"10x3dataset.csv\",index_col=0)\n",
    "df = pd.concat([df1, df2], axis=1)\n",
    "X = df.drop(\"Result\",axis=1).values\n",
    "X = preprocessing.scale(X)\n",
    "y = df['Result'].values\n",
    "df.head()"
   ]
  },
  {
   "cell_type": "code",
   "execution_count": 54,
   "id": "3702abac",
   "metadata": {},
   "outputs": [
    {
     "name": "stdout",
     "output_type": "stream",
     "text": [
      "{'fit_time': 0.42461836338043213, 'score_time': 0.024780082702636718, 'test_accuracy': 0.8562475350412804, 'test_recall': 0.8947487065779749, 'test_precision': 0.8577144528051892, 'test_f1': 0.8748721191390922}\n"
     ]
    }
   ],
   "source": [
    "#Random Forest\n",
    "from sklearn.ensemble import RandomForestClassifier\n",
    "rforest_clf = RandomForestClassifier()\n",
    "cross_val_scores = cross_validate(rforest_clf, X, y, cv=10, scoring = scoring)\n",
    "rforest_clf_score = mean_score(cross_val_scores)\n",
    "print(rforest_clf_score)"
   ]
  },
  {
   "cell_type": "code",
   "execution_count": 55,
   "id": "e44e202c",
   "metadata": {},
   "outputs": [
    {
     "name": "stderr",
     "output_type": "stream",
     "text": [
      "C:\\Users\\Usuario\\anaconda3\\lib\\site-packages\\sklearn\\neural_network\\_multilayer_perceptron.py:702: ConvergenceWarning: Stochastic Optimizer: Maximum iterations (500) reached and the optimization hasn't converged yet.\n",
      "  warnings.warn(\n"
     ]
    },
    {
     "name": "stdout",
     "output_type": "stream",
     "text": [
      "{'fit_time': 8.195098757743835, 'score_time': 0.0032013416290283202, 'test_accuracy': 0.8394239565349022, 'test_recall': 0.877373297434273, 'test_precision': 0.8438175990902913, 'test_f1': 0.8596133879553649}\n"
     ]
    },
    {
     "name": "stderr",
     "output_type": "stream",
     "text": [
      "C:\\Users\\Usuario\\anaconda3\\lib\\site-packages\\sklearn\\neural_network\\_multilayer_perceptron.py:702: ConvergenceWarning: Stochastic Optimizer: Maximum iterations (500) reached and the optimization hasn't converged yet.\n",
      "  warnings.warn(\n"
     ]
    }
   ],
   "source": [
    "#Multi-layer Perceptron classifier\n",
    "from sklearn.neural_network import MLPClassifier\n",
    "neural_clf=MLPClassifier(hidden_layer_sizes=(33,),max_iter=500)\n",
    "cross_val_scores = cross_validate(neural_clf, X, y, cv=fold_count, scoring=scoring)\n",
    "neural_clf_score = mean_score(cross_val_scores)\n",
    "print(neural_clf_score)"
   ]
  },
  {
   "cell_type": "code",
   "execution_count": 56,
   "id": "41bef061",
   "metadata": {},
   "outputs": [
    {
     "name": "stdout",
     "output_type": "stream",
     "text": [
      "{'fit_time': 0.018097567558288574, 'score_time': 0.0031008005142211916, 'test_accuracy': 0.8459337386366427, 'test_recall': 0.8789913947840777, 'test_precision': 0.8528887293847743, 'test_f1': 0.864926647128956}\n"
     ]
    }
   ],
   "source": [
    "#Decision Tree\n",
    "from sklearn.tree import DecisionTreeClassifier\n",
    "decisionTree = DecisionTreeClassifier()\n",
    "cross_val_scores = cross_validate(decisionTree, X, y, cv=fold_count, scoring=scoring)\n",
    "decisionTree_clf_score = mean_score(cross_val_scores)\n",
    "print(decisionTree_clf_score)"
   ]
  },
  {
   "cell_type": "code",
   "execution_count": 57,
   "id": "84c02451",
   "metadata": {},
   "outputs": [
    {
     "name": "stdout",
     "output_type": "stream",
     "text": [
      "{'fit_time': 0.2049238920211792, 'score_time': 0.012661886215209962, 'test_accuracy': 0.761095464475956, 'test_recall': 0.8142263224580297, 'test_precision': 0.7771939557275496, 'test_f1': 0.7917888313750919}\n"
     ]
    }
   ],
   "source": [
    "# Ada Boost\n",
    "from sklearn.ensemble import AdaBoostClassifier\n",
    "adaBoost = AdaBoostClassifier()\n",
    "cross_val_scores = cross_validate(adaBoost, X, y, cv=fold_count, scoring=scoring)\n",
    "adaBoost_clf_score = mean_score(cross_val_scores)\n",
    "print(adaBoost_clf_score)"
   ]
  },
  {
   "cell_type": "code",
   "execution_count": 58,
   "id": "42f257f6",
   "metadata": {},
   "outputs": [
    {
     "name": "stdout",
     "output_type": "stream",
     "text": [
      "{'fit_time': 2.4090996265411375, 'score_time': 0.4510191440582275, 'test_accuracy': 0.8303806469033572, 'test_recall': 0.8803059339034949, 'test_precision': 0.8317621735958467, 'test_f1': 0.8534997378607105}\n"
     ]
    }
   ],
   "source": [
    "#SVM\n",
    "from sklearn.svm import SVC\n",
    "svc = SVC()\n",
    "cross_val_scores = cross_validate(svc, X, y, cv=fold_count, scoring=scoring)\n",
    "svc_clf_score = mean_score(cross_val_scores)\n",
    "print(svc_clf_score)"
   ]
  },
  {
   "cell_type": "markdown",
   "id": "f09d119c",
   "metadata": {},
   "source": [
    "<h2 align=\"center\">Bagging<h2/>"
   ]
  },
  {
   "cell_type": "code",
   "execution_count": 59,
   "id": "a3ca4427",
   "metadata": {},
   "outputs": [
    {
     "name": "stdout",
     "output_type": "stream",
     "text": [
      "{'fit_time': 3.4085909843444826, 'score_time': 0.2240339994430542, 'test_accuracy': 0.8510906368389615, 'test_recall': 0.893286347798543, 'test_precision': 0.851307065198762, 'test_f1': 0.870793984794747}\n"
     ]
    }
   ],
   "source": [
    "#Bagging Classifier Random Forest\n",
    "from sklearn.ensemble import BaggingClassifier\n",
    "bagging = BaggingClassifier(RandomForestClassifier())\n",
    "cross_val_scores = cross_validate(bagging, X, y, cv=fold_count, scoring=scoring)\n",
    "bagging_clf_score = mean_score(cross_val_scores)\n",
    "print(bagging_clf_score)"
   ]
  },
  {
   "cell_type": "code",
   "execution_count": 60,
   "id": "4d699b03",
   "metadata": {},
   "outputs": [
    {
     "name": "stdout",
     "output_type": "stream",
     "text": [
      "{'fit_time': 0.10048923492431641, 'score_time': 0.005211687088012696, 'test_accuracy': 0.8495529935440583, 'test_recall': 0.8869543870763383, 'test_precision': 0.8531131791682831, 'test_f1': 0.8688194631580455}\n"
     ]
    }
   ],
   "source": [
    "#Bagging Decision Tree\n",
    "bagging = BaggingClassifier(DecisionTreeClassifier())\n",
    "cross_val_scores = cross_validate(bagging, X, y, cv=fold_count, scoring=scoring)\n",
    "bagging_clf_score = mean_score(cross_val_scores)\n",
    "print(bagging_clf_score)"
   ]
  },
  {
   "cell_type": "code",
   "execution_count": 61,
   "id": "3386b1cc",
   "metadata": {},
   "outputs": [
    {
     "name": "stdout",
     "output_type": "stream",
     "text": [
      "{'fit_time': 1.7914273738861084, 'score_time': 0.09945449829101563, 'test_accuracy': 0.7615477076906713, 'test_recall': 0.8160136205258157, 'test_precision': 0.7771731789056082, 'test_f1': 0.7924737143126233}\n"
     ]
    }
   ],
   "source": [
    "#Bagging Ada Boost\n",
    "bagging = BaggingClassifier(AdaBoostClassifier())\n",
    "cross_val_scores = cross_validate(bagging, X, y, cv=fold_count, scoring=scoring)\n",
    "bagging_clf_score = mean_score(cross_val_scores)\n",
    "print(bagging_clf_score)"
   ]
  },
  {
   "cell_type": "code",
   "execution_count": 62,
   "id": "29d705cd",
   "metadata": {},
   "outputs": [
    {
     "name": "stdout",
     "output_type": "stream",
     "text": [
      "{'fit_time': 9.533566188812255, 'score_time': 2.796822214126587, 'test_accuracy': 0.8271242011897261, 'test_recall': 0.8660133565621371, 'test_precision': 0.8365108166765669, 'test_f1': 0.8489578424820197}\n"
     ]
    }
   ],
   "source": [
    "#Bagging SVM\n",
    "from sklearn.ensemble import BaggingClassifier\n",
    "bagging = BaggingClassifier(SVC())\n",
    "cross_val_scores = cross_validate(bagging, X, y, cv=fold_count, scoring=scoring)\n",
    "bagging_clf_score = mean_score(cross_val_scores)\n",
    "print(bagging_clf_score)\n"
   ]
  },
  {
   "cell_type": "markdown",
   "metadata": {},
   "source": [
    "<h3 align=\"center\">Prueba con las Segundas las Terceras Características Relevantes</h3>\n"
   ]
  },
  {
   "cell_type": "code",
   "execution_count": 42,
   "metadata": {},
   "outputs": [
    {
     "data": {
      "text/html": [
       "<div>\n",
       "<style scoped>\n",
       "    .dataframe tbody tr th:only-of-type {\n",
       "        vertical-align: middle;\n",
       "    }\n",
       "\n",
       "    .dataframe tbody tr th {\n",
       "        vertical-align: top;\n",
       "    }\n",
       "\n",
       "    .dataframe thead th {\n",
       "        text-align: right;\n",
       "    }\n",
       "</style>\n",
       "<table border=\"1\" class=\"dataframe\">\n",
       "  <thead>\n",
       "    <tr style=\"text-align: right;\">\n",
       "      <th></th>\n",
       "      <th>haveIp</th>\n",
       "      <th>lengthUrl</th>\n",
       "      <th>haveAtSymbol</th>\n",
       "      <th>sslState</th>\n",
       "      <th>domainAge</th>\n",
       "      <th>slashDouble</th>\n",
       "      <th>anchorUrl</th>\n",
       "      <th>prefixSuffix</th>\n",
       "      <th>linksInTags</th>\n",
       "      <th>clicRigth</th>\n",
       "      <th>...</th>\n",
       "      <th>hasSHA1</th>\n",
       "      <th>hasYara</th>\n",
       "      <th>hasSHA256</th>\n",
       "      <th>hasShort</th>\n",
       "      <th>hasDateTime</th>\n",
       "      <th>hasDomain</th>\n",
       "      <th>hasHostname</th>\n",
       "      <th>hasIPDst</th>\n",
       "      <th>hasIPSrc</th>\n",
       "      <th>result</th>\n",
       "    </tr>\n",
       "    <tr>\n",
       "      <th>Ord.</th>\n",
       "      <th></th>\n",
       "      <th></th>\n",
       "      <th></th>\n",
       "      <th></th>\n",
       "      <th></th>\n",
       "      <th></th>\n",
       "      <th></th>\n",
       "      <th></th>\n",
       "      <th></th>\n",
       "      <th></th>\n",
       "      <th></th>\n",
       "      <th></th>\n",
       "      <th></th>\n",
       "      <th></th>\n",
       "      <th></th>\n",
       "      <th></th>\n",
       "      <th></th>\n",
       "      <th></th>\n",
       "      <th></th>\n",
       "      <th></th>\n",
       "      <th></th>\n",
       "    </tr>\n",
       "  </thead>\n",
       "  <tbody>\n",
       "    <tr>\n",
       "      <th>0</th>\n",
       "      <td>1</td>\n",
       "      <td>1</td>\n",
       "      <td>1</td>\n",
       "      <td>1</td>\n",
       "      <td>-1</td>\n",
       "      <td>1</td>\n",
       "      <td>-1</td>\n",
       "      <td>1</td>\n",
       "      <td>0</td>\n",
       "      <td>-1</td>\n",
       "      <td>...</td>\n",
       "      <td>-1</td>\n",
       "      <td>-1</td>\n",
       "      <td>-1</td>\n",
       "      <td>-1</td>\n",
       "      <td>-1</td>\n",
       "      <td>-1</td>\n",
       "      <td>-1</td>\n",
       "      <td>-1</td>\n",
       "      <td>-1</td>\n",
       "      <td>1</td>\n",
       "    </tr>\n",
       "    <tr>\n",
       "      <th>1</th>\n",
       "      <td>1</td>\n",
       "      <td>1</td>\n",
       "      <td>1</td>\n",
       "      <td>1</td>\n",
       "      <td>-1</td>\n",
       "      <td>1</td>\n",
       "      <td>-1</td>\n",
       "      <td>1</td>\n",
       "      <td>0</td>\n",
       "      <td>-1</td>\n",
       "      <td>...</td>\n",
       "      <td>-1</td>\n",
       "      <td>-1</td>\n",
       "      <td>-1</td>\n",
       "      <td>-1</td>\n",
       "      <td>-1</td>\n",
       "      <td>-1</td>\n",
       "      <td>-1</td>\n",
       "      <td>-1</td>\n",
       "      <td>-1</td>\n",
       "      <td>1</td>\n",
       "    </tr>\n",
       "    <tr>\n",
       "      <th>2</th>\n",
       "      <td>1</td>\n",
       "      <td>1</td>\n",
       "      <td>1</td>\n",
       "      <td>1</td>\n",
       "      <td>-1</td>\n",
       "      <td>1</td>\n",
       "      <td>-1</td>\n",
       "      <td>1</td>\n",
       "      <td>-1</td>\n",
       "      <td>-1</td>\n",
       "      <td>...</td>\n",
       "      <td>-1</td>\n",
       "      <td>-1</td>\n",
       "      <td>-1</td>\n",
       "      <td>-1</td>\n",
       "      <td>-1</td>\n",
       "      <td>-1</td>\n",
       "      <td>-1</td>\n",
       "      <td>-1</td>\n",
       "      <td>-1</td>\n",
       "      <td>1</td>\n",
       "    </tr>\n",
       "    <tr>\n",
       "      <th>3</th>\n",
       "      <td>1</td>\n",
       "      <td>-1</td>\n",
       "      <td>1</td>\n",
       "      <td>1</td>\n",
       "      <td>-1</td>\n",
       "      <td>1</td>\n",
       "      <td>-1</td>\n",
       "      <td>-1</td>\n",
       "      <td>-1</td>\n",
       "      <td>-1</td>\n",
       "      <td>...</td>\n",
       "      <td>-1</td>\n",
       "      <td>-1</td>\n",
       "      <td>-1</td>\n",
       "      <td>-1</td>\n",
       "      <td>-1</td>\n",
       "      <td>-1</td>\n",
       "      <td>-1</td>\n",
       "      <td>-1</td>\n",
       "      <td>-1</td>\n",
       "      <td>1</td>\n",
       "    </tr>\n",
       "    <tr>\n",
       "      <th>4</th>\n",
       "      <td>1</td>\n",
       "      <td>1</td>\n",
       "      <td>1</td>\n",
       "      <td>1</td>\n",
       "      <td>-1</td>\n",
       "      <td>1</td>\n",
       "      <td>-1</td>\n",
       "      <td>1</td>\n",
       "      <td>1</td>\n",
       "      <td>-1</td>\n",
       "      <td>...</td>\n",
       "      <td>-1</td>\n",
       "      <td>-1</td>\n",
       "      <td>-1</td>\n",
       "      <td>-1</td>\n",
       "      <td>-1</td>\n",
       "      <td>-1</td>\n",
       "      <td>-1</td>\n",
       "      <td>-1</td>\n",
       "      <td>-1</td>\n",
       "      <td>1</td>\n",
       "    </tr>\n",
       "  </tbody>\n",
       "</table>\n",
       "<p>5 rows × 41 columns</p>\n",
       "</div>"
      ],
      "text/plain": [
       "      haveIp  lengthUrl  haveAtSymbol  sslState  domainAge  slashDouble   \n",
       "Ord.                                                                      \n",
       "0          1          1             1         1         -1            1  \\\n",
       "1          1          1             1         1         -1            1   \n",
       "2          1          1             1         1         -1            1   \n",
       "3          1         -1             1         1         -1            1   \n",
       "4          1          1             1         1         -1            1   \n",
       "\n",
       "      anchorUrl  prefixSuffix  linksInTags  clicRigth  ...  hasSHA1  hasYara   \n",
       "Ord.                                                   ...                     \n",
       "0            -1             1            0         -1  ...       -1       -1  \\\n",
       "1            -1             1            0         -1  ...       -1       -1   \n",
       "2            -1             1           -1         -1  ...       -1       -1   \n",
       "3            -1            -1           -1         -1  ...       -1       -1   \n",
       "4            -1             1            1         -1  ...       -1       -1   \n",
       "\n",
       "      hasSHA256  hasShort  hasDateTime  hasDomain  hasHostname  hasIPDst   \n",
       "Ord.                                                                       \n",
       "0            -1        -1           -1         -1           -1        -1  \\\n",
       "1            -1        -1           -1         -1           -1        -1   \n",
       "2            -1        -1           -1         -1           -1        -1   \n",
       "3            -1        -1           -1         -1           -1        -1   \n",
       "4            -1        -1           -1         -1           -1        -1   \n",
       "\n",
       "      hasIPSrc  result  \n",
       "Ord.                    \n",
       "0           -1       1  \n",
       "1           -1       1  \n",
       "2           -1       1  \n",
       "3           -1       1  \n",
       "4           -1       1  \n",
       "\n",
       "[5 rows x 41 columns]"
      ]
     },
     "execution_count": 42,
     "metadata": {},
     "output_type": "execute_result"
    }
   ],
   "source": [
    "df1 = pd.read_csv(\"/Users/denniscaisa/Desktop/DENNIS/TITULACION/Documentos/Separacion de Caracteristicas/30Features/Dataset_Legitime_AllFeatures_30x1.csv\",index_col=0)\n",
    "df1 = df1.drop(\"result\",axis=1)\n",
    "df2 = pd.read_csv(\"/Users/denniscaisa/Desktop/DENNIS/TITULACION/Documentos/Separacion de Caracteristicas/1Feature/Dataset_Legitime_2x1.csv\",index_col=0)\n",
    "df2 = df2.drop(\"result\",axis=1)\n",
    "df3 = pd.read_csv(\"/Users/denniscaisa/Desktop/DENNIS/TITULACION/Documentos/Separacion de Caracteristicas/1Feature/Dataset_Legitime_3x1.csv\",index_col=0)\n",
    "df3 = df3.drop(\"result\",axis=1)\n",
    "df4 = pd.read_csv(\"/Users/denniscaisa/Desktop/DENNIS/TITULACION/Documentos/Separacion de Caracteristicas/1Feature/Dataset_Legitime_4x1.csv\",index_col=0)\n",
    "df4 = df4.drop(\"result\",axis=1)\n",
    "df5 = pd.read_csv(\"/Users/denniscaisa/Desktop/DENNIS/TITULACION/Documentos/Separacion de Caracteristicas/1Feature/Dataset_Legitime_5x1.csv\",index_col=0)\n",
    "df5 = df5.drop(\"result\",axis=1)\n",
    "df6 = pd.read_csv(\"/Users/denniscaisa/Desktop/DENNIS/TITULACION/Documentos/Separacion de Caracteristicas/1Feature/Dataset_Legitime_6x1.csv\",index_col=0)\n",
    "df6 = df6.drop(\"result\",axis=1)\n",
    "df7 = pd.read_csv(\"/Users/denniscaisa/Desktop/DENNIS/TITULACION/Documentos/Separacion de Caracteristicas/1Feature/Dataset_Legitime_7x1.csv\",index_col=0)\n",
    "df7 = df7.drop(\"result\",axis=1)\n",
    "df8 = pd.read_csv(\"/Users/denniscaisa/Desktop/DENNIS/TITULACION/Documentos/Separacion de Caracteristicas/1Feature/Dataset_Legitime_8x1.csv\",index_col=0)\n",
    "df8 = df8.drop(\"result\",axis=1)\n",
    "df9 = pd.read_csv(\"/Users/denniscaisa/Desktop/DENNIS/TITULACION/Documentos/Separacion de Caracteristicas/1Feature/Dataset_Legitime_9x1.csv\",index_col=0)\n",
    "df9 = df9.drop(\"result\",axis=1)\n",
    "df10 = pd.read_csv(\"/Users/denniscaisa/Desktop/DENNIS/TITULACION/Documentos/Separacion de Caracteristicas/1Feature/Dataset_Legitime_10x1.csv\",index_col=0)\n",
    "df = pd.concat([df1, df2, df3, df4, df5, df6, df7, df8, df9, df10], axis=1)\n",
    "X = df.drop(\"result\",axis=1).values\n",
    "X = preprocessing.scale(X)\n",
    "y = df['result'].values\n",
    "df.head()"
   ]
  },
  {
   "cell_type": "code",
   "execution_count": 44,
   "metadata": {},
   "outputs": [
    {
     "name": "stdout",
     "output_type": "stream",
     "text": [
      "{'fit_time': 0.2649239988327026, 'score_time': 0.003438925504684448, 'test_accuracy': 0.8414670329670331, 'test_recall': 0.9634454545454546, 'test_precision': 0.8581696692196692, 'test_f1': 0.9053943695624009}\n"
     ]
    }
   ],
   "source": [
    "#Random Forest\n",
    "from sklearn.ensemble import RandomForestClassifier\n",
    "rforest_clf = RandomForestClassifier()\n",
    "cross_val_scores = cross_validate(rforest_clf, X, y, cv=1000, scoring = scoring)\n",
    "rforest_clf_score = mean_score(cross_val_scores)\n",
    "print(rforest_clf_score)"
   ]
  },
  {
   "cell_type": "markdown",
   "metadata": {},
   "source": [
    "<h3 align=\"center\">Prueba con las 30 características mas 1, 2, 4, 6, 9 y 10 IOCs Relevantes</h3>"
   ]
  },
  {
   "cell_type": "code",
   "execution_count": 3,
   "metadata": {},
   "outputs": [
    {
     "ename": "FileNotFoundError",
     "evalue": "[Errno 2] No such file or directory: './caracteristicas/30carac/Dataset_Legitime_AllFeatures_30x1.csv'",
     "output_type": "error",
     "traceback": [
      "\u001b[0;31m---------------------------------------------------------------------------\u001b[0m",
      "\u001b[0;31mFileNotFoundError\u001b[0m                         Traceback (most recent call last)",
      "Cell \u001b[0;32mIn[3], line 1\u001b[0m\n\u001b[0;32m----> 1\u001b[0m df1 \u001b[39m=\u001b[39m pd\u001b[39m.\u001b[39;49mread_csv(\u001b[39m\"\u001b[39;49m\u001b[39m./caracteristicas/30carac/Dataset_Legitime_AllFeatures_30x1.csv\u001b[39;49m\u001b[39m\"\u001b[39;49m,index_col\u001b[39m=\u001b[39;49m\u001b[39m0\u001b[39;49m)\n\u001b[1;32m      2\u001b[0m df1 \u001b[39m=\u001b[39m df1\u001b[39m.\u001b[39mdrop(\u001b[39m\"\u001b[39m\u001b[39mresult\u001b[39m\u001b[39m\"\u001b[39m,axis\u001b[39m=\u001b[39m\u001b[39m1\u001b[39m)\n\u001b[1;32m      3\u001b[0m df2 \u001b[39m=\u001b[39m pd\u001b[39m.\u001b[39mread_csv(\u001b[39m\"\u001b[39m\u001b[39m./caracteristicas/30carac/Dataset_Legitime_2x1.csv\u001b[39m\u001b[39m\"\u001b[39m,index_col\u001b[39m=\u001b[39m\u001b[39m0\u001b[39m)\n",
      "File \u001b[0;32m/Library/Frameworks/Python.framework/Versions/3.11/lib/python3.11/site-packages/pandas/io/parsers/readers.py:912\u001b[0m, in \u001b[0;36mread_csv\u001b[0;34m(filepath_or_buffer, sep, delimiter, header, names, index_col, usecols, dtype, engine, converters, true_values, false_values, skipinitialspace, skiprows, skipfooter, nrows, na_values, keep_default_na, na_filter, verbose, skip_blank_lines, parse_dates, infer_datetime_format, keep_date_col, date_parser, date_format, dayfirst, cache_dates, iterator, chunksize, compression, thousands, decimal, lineterminator, quotechar, quoting, doublequote, escapechar, comment, encoding, encoding_errors, dialect, on_bad_lines, delim_whitespace, low_memory, memory_map, float_precision, storage_options, dtype_backend)\u001b[0m\n\u001b[1;32m    899\u001b[0m kwds_defaults \u001b[39m=\u001b[39m _refine_defaults_read(\n\u001b[1;32m    900\u001b[0m     dialect,\n\u001b[1;32m    901\u001b[0m     delimiter,\n\u001b[0;32m   (...)\u001b[0m\n\u001b[1;32m    908\u001b[0m     dtype_backend\u001b[39m=\u001b[39mdtype_backend,\n\u001b[1;32m    909\u001b[0m )\n\u001b[1;32m    910\u001b[0m kwds\u001b[39m.\u001b[39mupdate(kwds_defaults)\n\u001b[0;32m--> 912\u001b[0m \u001b[39mreturn\u001b[39;00m _read(filepath_or_buffer, kwds)\n",
      "File \u001b[0;32m/Library/Frameworks/Python.framework/Versions/3.11/lib/python3.11/site-packages/pandas/io/parsers/readers.py:577\u001b[0m, in \u001b[0;36m_read\u001b[0;34m(filepath_or_buffer, kwds)\u001b[0m\n\u001b[1;32m    574\u001b[0m _validate_names(kwds\u001b[39m.\u001b[39mget(\u001b[39m\"\u001b[39m\u001b[39mnames\u001b[39m\u001b[39m\"\u001b[39m, \u001b[39mNone\u001b[39;00m))\n\u001b[1;32m    576\u001b[0m \u001b[39m# Create the parser.\u001b[39;00m\n\u001b[0;32m--> 577\u001b[0m parser \u001b[39m=\u001b[39m TextFileReader(filepath_or_buffer, \u001b[39m*\u001b[39;49m\u001b[39m*\u001b[39;49mkwds)\n\u001b[1;32m    579\u001b[0m \u001b[39mif\u001b[39;00m chunksize \u001b[39mor\u001b[39;00m iterator:\n\u001b[1;32m    580\u001b[0m     \u001b[39mreturn\u001b[39;00m parser\n",
      "File \u001b[0;32m/Library/Frameworks/Python.framework/Versions/3.11/lib/python3.11/site-packages/pandas/io/parsers/readers.py:1407\u001b[0m, in \u001b[0;36mTextFileReader.__init__\u001b[0;34m(self, f, engine, **kwds)\u001b[0m\n\u001b[1;32m   1404\u001b[0m     \u001b[39mself\u001b[39m\u001b[39m.\u001b[39moptions[\u001b[39m\"\u001b[39m\u001b[39mhas_index_names\u001b[39m\u001b[39m\"\u001b[39m] \u001b[39m=\u001b[39m kwds[\u001b[39m\"\u001b[39m\u001b[39mhas_index_names\u001b[39m\u001b[39m\"\u001b[39m]\n\u001b[1;32m   1406\u001b[0m \u001b[39mself\u001b[39m\u001b[39m.\u001b[39mhandles: IOHandles \u001b[39m|\u001b[39m \u001b[39mNone\u001b[39;00m \u001b[39m=\u001b[39m \u001b[39mNone\u001b[39;00m\n\u001b[0;32m-> 1407\u001b[0m \u001b[39mself\u001b[39m\u001b[39m.\u001b[39m_engine \u001b[39m=\u001b[39m \u001b[39mself\u001b[39;49m\u001b[39m.\u001b[39;49m_make_engine(f, \u001b[39mself\u001b[39;49m\u001b[39m.\u001b[39;49mengine)\n",
      "File \u001b[0;32m/Library/Frameworks/Python.framework/Versions/3.11/lib/python3.11/site-packages/pandas/io/parsers/readers.py:1661\u001b[0m, in \u001b[0;36mTextFileReader._make_engine\u001b[0;34m(self, f, engine)\u001b[0m\n\u001b[1;32m   1659\u001b[0m     \u001b[39mif\u001b[39;00m \u001b[39m\"\u001b[39m\u001b[39mb\u001b[39m\u001b[39m\"\u001b[39m \u001b[39mnot\u001b[39;00m \u001b[39min\u001b[39;00m mode:\n\u001b[1;32m   1660\u001b[0m         mode \u001b[39m+\u001b[39m\u001b[39m=\u001b[39m \u001b[39m\"\u001b[39m\u001b[39mb\u001b[39m\u001b[39m\"\u001b[39m\n\u001b[0;32m-> 1661\u001b[0m \u001b[39mself\u001b[39m\u001b[39m.\u001b[39mhandles \u001b[39m=\u001b[39m get_handle(\n\u001b[1;32m   1662\u001b[0m     f,\n\u001b[1;32m   1663\u001b[0m     mode,\n\u001b[1;32m   1664\u001b[0m     encoding\u001b[39m=\u001b[39;49m\u001b[39mself\u001b[39;49m\u001b[39m.\u001b[39;49moptions\u001b[39m.\u001b[39;49mget(\u001b[39m\"\u001b[39;49m\u001b[39mencoding\u001b[39;49m\u001b[39m\"\u001b[39;49m, \u001b[39mNone\u001b[39;49;00m),\n\u001b[1;32m   1665\u001b[0m     compression\u001b[39m=\u001b[39;49m\u001b[39mself\u001b[39;49m\u001b[39m.\u001b[39;49moptions\u001b[39m.\u001b[39;49mget(\u001b[39m\"\u001b[39;49m\u001b[39mcompression\u001b[39;49m\u001b[39m\"\u001b[39;49m, \u001b[39mNone\u001b[39;49;00m),\n\u001b[1;32m   1666\u001b[0m     memory_map\u001b[39m=\u001b[39;49m\u001b[39mself\u001b[39;49m\u001b[39m.\u001b[39;49moptions\u001b[39m.\u001b[39;49mget(\u001b[39m\"\u001b[39;49m\u001b[39mmemory_map\u001b[39;49m\u001b[39m\"\u001b[39;49m, \u001b[39mFalse\u001b[39;49;00m),\n\u001b[1;32m   1667\u001b[0m     is_text\u001b[39m=\u001b[39;49mis_text,\n\u001b[1;32m   1668\u001b[0m     errors\u001b[39m=\u001b[39;49m\u001b[39mself\u001b[39;49m\u001b[39m.\u001b[39;49moptions\u001b[39m.\u001b[39;49mget(\u001b[39m\"\u001b[39;49m\u001b[39mencoding_errors\u001b[39;49m\u001b[39m\"\u001b[39;49m, \u001b[39m\"\u001b[39;49m\u001b[39mstrict\u001b[39;49m\u001b[39m\"\u001b[39;49m),\n\u001b[1;32m   1669\u001b[0m     storage_options\u001b[39m=\u001b[39;49m\u001b[39mself\u001b[39;49m\u001b[39m.\u001b[39;49moptions\u001b[39m.\u001b[39;49mget(\u001b[39m\"\u001b[39;49m\u001b[39mstorage_options\u001b[39;49m\u001b[39m\"\u001b[39;49m, \u001b[39mNone\u001b[39;49;00m),\n\u001b[1;32m   1670\u001b[0m )\n\u001b[1;32m   1671\u001b[0m \u001b[39massert\u001b[39;00m \u001b[39mself\u001b[39m\u001b[39m.\u001b[39mhandles \u001b[39mis\u001b[39;00m \u001b[39mnot\u001b[39;00m \u001b[39mNone\u001b[39;00m\n\u001b[1;32m   1672\u001b[0m f \u001b[39m=\u001b[39m \u001b[39mself\u001b[39m\u001b[39m.\u001b[39mhandles\u001b[39m.\u001b[39mhandle\n",
      "File \u001b[0;32m/Library/Frameworks/Python.framework/Versions/3.11/lib/python3.11/site-packages/pandas/io/common.py:859\u001b[0m, in \u001b[0;36mget_handle\u001b[0;34m(path_or_buf, mode, encoding, compression, memory_map, is_text, errors, storage_options)\u001b[0m\n\u001b[1;32m    854\u001b[0m \u001b[39melif\u001b[39;00m \u001b[39misinstance\u001b[39m(handle, \u001b[39mstr\u001b[39m):\n\u001b[1;32m    855\u001b[0m     \u001b[39m# Check whether the filename is to be opened in binary mode.\u001b[39;00m\n\u001b[1;32m    856\u001b[0m     \u001b[39m# Binary mode does not support 'encoding' and 'newline'.\u001b[39;00m\n\u001b[1;32m    857\u001b[0m     \u001b[39mif\u001b[39;00m ioargs\u001b[39m.\u001b[39mencoding \u001b[39mand\u001b[39;00m \u001b[39m\"\u001b[39m\u001b[39mb\u001b[39m\u001b[39m\"\u001b[39m \u001b[39mnot\u001b[39;00m \u001b[39min\u001b[39;00m ioargs\u001b[39m.\u001b[39mmode:\n\u001b[1;32m    858\u001b[0m         \u001b[39m# Encoding\u001b[39;00m\n\u001b[0;32m--> 859\u001b[0m         handle \u001b[39m=\u001b[39m \u001b[39mopen\u001b[39;49m(\n\u001b[1;32m    860\u001b[0m             handle,\n\u001b[1;32m    861\u001b[0m             ioargs\u001b[39m.\u001b[39;49mmode,\n\u001b[1;32m    862\u001b[0m             encoding\u001b[39m=\u001b[39;49mioargs\u001b[39m.\u001b[39;49mencoding,\n\u001b[1;32m    863\u001b[0m             errors\u001b[39m=\u001b[39;49merrors,\n\u001b[1;32m    864\u001b[0m             newline\u001b[39m=\u001b[39;49m\u001b[39m\"\u001b[39;49m\u001b[39m\"\u001b[39;49m,\n\u001b[1;32m    865\u001b[0m         )\n\u001b[1;32m    866\u001b[0m     \u001b[39melse\u001b[39;00m:\n\u001b[1;32m    867\u001b[0m         \u001b[39m# Binary mode\u001b[39;00m\n\u001b[1;32m    868\u001b[0m         handle \u001b[39m=\u001b[39m \u001b[39mopen\u001b[39m(handle, ioargs\u001b[39m.\u001b[39mmode)\n",
      "\u001b[0;31mFileNotFoundError\u001b[0m: [Errno 2] No such file or directory: './caracteristicas/30carac/Dataset_Legitime_AllFeatures_30x1.csv'"
     ]
    }
   ],
   "source": [
    "df1 = pd.read_csv(\"./caracteristicas/30carac/Dataset_Legitime_AllFeatures_30x1.csv\",index_col=0)\n",
    "df1 = df1.drop(\"result\",axis=1)\n",
    "df2 = pd.read_csv(\"./caracteristicas/1carac/Dataset_Legitime_2x1.csv\",index_col=0)\n",
    "df2 = df2.drop(\"result\",axis=1)\n",
    "df3 = pd.read_csv(\"./caracteristicas/1carac/Dataset_Legitime_4x1.csv\",index_col=0)\n",
    "df3 = df3.drop(\"result\",axis=1)\n",
    "df4 = pd.read_csv(\"./caracteristicas/1carac/Dataset_Legitime_6x1.csv\",index_col=0)\n",
    "df4 = df4.drop(\"result\",axis=1)\n",
    "df5 = pd.read_csv(\"./caracteristicas/1carac/Dataset_Legitime_9x1.csv\",index_col=0)\n",
    "df5 = df5.drop(\"result\",axis=1)\n",
    "df6 = pd.read_csv(\"./caracteristicas/1carac/Dataset_Legitime_10x1.csv\",index_col=0)\n",
    "df6 = df6.drop(\"result\",axis=1)\n",
    "df = pd.concat([df1, df2, df3, df4, df5, df6], axis=1)\n",
    "X = df.drop(\"result\",axis=1).values\n",
    "X = preprocessing.scale(X)\n",
    "y = df['result'].values\n",
    "df.head()"
   ]
  }
 ],
 "metadata": {
  "kernelspec": {
   "display_name": "Python 3.9.12 ('base')",
   "language": "python",
   "name": "python3"
  },
  "language_info": {
   "codemirror_mode": {
    "name": "ipython",
    "version": 3
   },
   "file_extension": ".py",
   "mimetype": "text/x-python",
   "name": "python",
   "nbconvert_exporter": "python",
   "pygments_lexer": "ipython3",
   "version": "3.11.3"
  },
  "vscode": {
   "interpreter": {
    "hash": "e06ff7da33dc9620448857a90ad8b5f428f0d573d205a934d2841c8aee45ea32"
   }
  }
 },
 "nbformat": 4,
 "nbformat_minor": 2
}
