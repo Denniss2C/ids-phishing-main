{
 "cells": [
  {
   "cell_type": "code",
   "execution_count": 2,
   "id": "66c31b79",
   "metadata": {},
   "outputs": [],
   "source": [
    "import pandas as pd\n",
    "import sklearn\n",
    "from sklearn.model_selection import train_test_split\n",
    "from sklearn import preprocessing\n",
    "from sklearn.metrics import confusion_matrix\n",
    "from sklearn.metrics import accuracy_score\n",
    "from sklearn.metrics import classification_report\n",
    "from sklearn.model_selection import KFold\n",
    "from sklearn.model_selection import cross_validate"
   ]
  },
  {
   "cell_type": "code",
   "execution_count": 3,
   "id": "0e6c2dd2",
   "metadata": {
    "scrolled": true
   },
   "outputs": [
    {
     "data": {
      "text/html": [
       "<div>\n",
       "<style scoped>\n",
       "    .dataframe tbody tr th:only-of-type {\n",
       "        vertical-align: middle;\n",
       "    }\n",
       "\n",
       "    .dataframe tbody tr th {\n",
       "        vertical-align: top;\n",
       "    }\n",
       "\n",
       "    .dataframe thead th {\n",
       "        text-align: right;\n",
       "    }\n",
       "</style>\n",
       "<table border=\"1\" class=\"dataframe\">\n",
       "  <thead>\n",
       "    <tr style=\"text-align: right;\">\n",
       "      <th></th>\n",
       "      <th>haveIp</th>\n",
       "      <th>lengthUrl</th>\n",
       "      <th>haveAtSymbol</th>\n",
       "      <th>sslState</th>\n",
       "      <th>domainAge</th>\n",
       "      <th>slashDouble</th>\n",
       "      <th>anchorUrl</th>\n",
       "      <th>prefixSuffix</th>\n",
       "      <th>linksInTags</th>\n",
       "      <th>clicRigth</th>\n",
       "      <th>...</th>\n",
       "      <th>hasSHA1</th>\n",
       "      <th>hasYara</th>\n",
       "      <th>hasSHA256</th>\n",
       "      <th>hasShort</th>\n",
       "      <th>hasDateTime</th>\n",
       "      <th>hasDomain</th>\n",
       "      <th>hasHostname</th>\n",
       "      <th>hasIPDst</th>\n",
       "      <th>hasIPSrc</th>\n",
       "      <th>result</th>\n",
       "    </tr>\n",
       "    <tr>\n",
       "      <th>Ord.</th>\n",
       "      <th></th>\n",
       "      <th></th>\n",
       "      <th></th>\n",
       "      <th></th>\n",
       "      <th></th>\n",
       "      <th></th>\n",
       "      <th></th>\n",
       "      <th></th>\n",
       "      <th></th>\n",
       "      <th></th>\n",
       "      <th></th>\n",
       "      <th></th>\n",
       "      <th></th>\n",
       "      <th></th>\n",
       "      <th></th>\n",
       "      <th></th>\n",
       "      <th></th>\n",
       "      <th></th>\n",
       "      <th></th>\n",
       "      <th></th>\n",
       "      <th></th>\n",
       "    </tr>\n",
       "  </thead>\n",
       "  <tbody>\n",
       "    <tr>\n",
       "      <th>0</th>\n",
       "      <td>1</td>\n",
       "      <td>1</td>\n",
       "      <td>1</td>\n",
       "      <td>1</td>\n",
       "      <td>-1</td>\n",
       "      <td>1</td>\n",
       "      <td>-1</td>\n",
       "      <td>1</td>\n",
       "      <td>0</td>\n",
       "      <td>-1</td>\n",
       "      <td>...</td>\n",
       "      <td>-1</td>\n",
       "      <td>-1</td>\n",
       "      <td>-1</td>\n",
       "      <td>-1</td>\n",
       "      <td>-1</td>\n",
       "      <td>-1</td>\n",
       "      <td>-1</td>\n",
       "      <td>-1</td>\n",
       "      <td>-1</td>\n",
       "      <td>1</td>\n",
       "    </tr>\n",
       "    <tr>\n",
       "      <th>1</th>\n",
       "      <td>1</td>\n",
       "      <td>1</td>\n",
       "      <td>1</td>\n",
       "      <td>1</td>\n",
       "      <td>-1</td>\n",
       "      <td>1</td>\n",
       "      <td>-1</td>\n",
       "      <td>1</td>\n",
       "      <td>0</td>\n",
       "      <td>-1</td>\n",
       "      <td>...</td>\n",
       "      <td>-1</td>\n",
       "      <td>-1</td>\n",
       "      <td>-1</td>\n",
       "      <td>-1</td>\n",
       "      <td>-1</td>\n",
       "      <td>-1</td>\n",
       "      <td>-1</td>\n",
       "      <td>-1</td>\n",
       "      <td>-1</td>\n",
       "      <td>1</td>\n",
       "    </tr>\n",
       "    <tr>\n",
       "      <th>2</th>\n",
       "      <td>1</td>\n",
       "      <td>1</td>\n",
       "      <td>1</td>\n",
       "      <td>1</td>\n",
       "      <td>-1</td>\n",
       "      <td>1</td>\n",
       "      <td>-1</td>\n",
       "      <td>1</td>\n",
       "      <td>-1</td>\n",
       "      <td>-1</td>\n",
       "      <td>...</td>\n",
       "      <td>-1</td>\n",
       "      <td>-1</td>\n",
       "      <td>-1</td>\n",
       "      <td>-1</td>\n",
       "      <td>-1</td>\n",
       "      <td>-1</td>\n",
       "      <td>-1</td>\n",
       "      <td>-1</td>\n",
       "      <td>-1</td>\n",
       "      <td>1</td>\n",
       "    </tr>\n",
       "    <tr>\n",
       "      <th>3</th>\n",
       "      <td>1</td>\n",
       "      <td>-1</td>\n",
       "      <td>1</td>\n",
       "      <td>1</td>\n",
       "      <td>-1</td>\n",
       "      <td>1</td>\n",
       "      <td>-1</td>\n",
       "      <td>-1</td>\n",
       "      <td>-1</td>\n",
       "      <td>-1</td>\n",
       "      <td>...</td>\n",
       "      <td>-1</td>\n",
       "      <td>-1</td>\n",
       "      <td>-1</td>\n",
       "      <td>-1</td>\n",
       "      <td>-1</td>\n",
       "      <td>-1</td>\n",
       "      <td>-1</td>\n",
       "      <td>-1</td>\n",
       "      <td>-1</td>\n",
       "      <td>1</td>\n",
       "    </tr>\n",
       "    <tr>\n",
       "      <th>4</th>\n",
       "      <td>1</td>\n",
       "      <td>1</td>\n",
       "      <td>1</td>\n",
       "      <td>1</td>\n",
       "      <td>-1</td>\n",
       "      <td>1</td>\n",
       "      <td>-1</td>\n",
       "      <td>1</td>\n",
       "      <td>1</td>\n",
       "      <td>-1</td>\n",
       "      <td>...</td>\n",
       "      <td>-1</td>\n",
       "      <td>-1</td>\n",
       "      <td>-1</td>\n",
       "      <td>-1</td>\n",
       "      <td>-1</td>\n",
       "      <td>-1</td>\n",
       "      <td>-1</td>\n",
       "      <td>-1</td>\n",
       "      <td>-1</td>\n",
       "      <td>1</td>\n",
       "    </tr>\n",
       "  </tbody>\n",
       "</table>\n",
       "<p>5 rows × 41 columns</p>\n",
       "</div>"
      ],
      "text/plain": [
       "      haveIp  lengthUrl  haveAtSymbol  sslState  domainAge  slashDouble   \n",
       "Ord.                                                                      \n",
       "0          1          1             1         1         -1            1  \\\n",
       "1          1          1             1         1         -1            1   \n",
       "2          1          1             1         1         -1            1   \n",
       "3          1         -1             1         1         -1            1   \n",
       "4          1          1             1         1         -1            1   \n",
       "\n",
       "      anchorUrl  prefixSuffix  linksInTags  clicRigth  ...  hasSHA1  hasYara   \n",
       "Ord.                                                   ...                     \n",
       "0            -1             1            0         -1  ...       -1       -1  \\\n",
       "1            -1             1            0         -1  ...       -1       -1   \n",
       "2            -1             1           -1         -1  ...       -1       -1   \n",
       "3            -1            -1           -1         -1  ...       -1       -1   \n",
       "4            -1             1            1         -1  ...       -1       -1   \n",
       "\n",
       "      hasSHA256  hasShort  hasDateTime  hasDomain  hasHostname  hasIPDst   \n",
       "Ord.                                                                       \n",
       "0            -1        -1           -1         -1           -1        -1  \\\n",
       "1            -1        -1           -1         -1           -1        -1   \n",
       "2            -1        -1           -1         -1           -1        -1   \n",
       "3            -1        -1           -1         -1           -1        -1   \n",
       "4            -1        -1           -1         -1           -1        -1   \n",
       "\n",
       "      hasIPSrc  result  \n",
       "Ord.                    \n",
       "0           -1       1  \n",
       "1           -1       1  \n",
       "2           -1       1  \n",
       "3           -1       1  \n",
       "4           -1       1  \n",
       "\n",
       "[5 rows x 41 columns]"
      ]
     },
     "execution_count": 3,
     "metadata": {},
     "output_type": "execute_result"
    }
   ],
   "source": [
    "df = pd.read_csv(\"/Users/denniscaisa/Desktop/DENNIS/TITULACION/Codigo DA/ids-phishing-main/Dataset_Legitime_40Features.csv\",index_col=0)\n",
    "#df = sklearn.utils.shuffle(df)\n",
    "X = df.drop(\"result\",axis=1).values\n",
    "X = preprocessing.scale(X)\n",
    "y = df['result'].values\n",
    "df.head()"
   ]
  },
  {
   "cell_type": "code",
   "execution_count": 4,
   "id": "29f5b617",
   "metadata": {},
   "outputs": [],
   "source": [
    "def mean_score(scoring):\n",
    "    return {i:j.mean() for i,j in scoring.items()}"
   ]
  },
  {
   "cell_type": "code",
   "execution_count": 5,
   "id": "10c67c09",
   "metadata": {},
   "outputs": [],
   "source": [
    "scoring = {'accuracy': 'accuracy',\n",
    "           'recall': 'recall',\n",
    "           'precision': 'precision',\n",
    "           'f1': 'f1'}\n",
    "fold_count=10"
   ]
  },
  {
   "cell_type": "code",
   "execution_count": 6,
   "id": "3702abac",
   "metadata": {},
   "outputs": [
    {
     "name": "stdout",
     "output_type": "stream",
     "text": [
      "{'fit_time': 0.27738907337188723, 'score_time': 0.006105703115463257, 'test_accuracy': 0.8392382794510453, 'test_recall': 0.9625045760468588, 'test_precision': 0.8558608703743932, 'test_f1': 0.9053102081008004}\n"
     ]
    }
   ],
   "source": [
    "#Random Forest\n",
    "from sklearn.ensemble import RandomForestClassifier\n",
    "rforest_clf = RandomForestClassifier()\n",
    "cross_val_scores = cross_validate(rforest_clf, X, y, cv=1200, scoring = scoring)\n",
    "rforest_clf_score = mean_score(cross_val_scores)\n",
    "print(rforest_clf_score)"
   ]
  },
  {
   "cell_type": "code",
   "execution_count": 14,
   "id": "e44e202c",
   "metadata": {},
   "outputs": [
    {
     "name": "stdout",
     "output_type": "stream",
     "text": [
      "{'fit_time': 6.055236458778381, 'score_time': 0.0059108734130859375, 'test_accuracy': 0.7985950674294116, 'test_recall': 0.9116971124995586, 'test_precision': 0.8470030538578681, 'test_f1': 0.8745444828619021}\n"
     ]
    }
   ],
   "source": [
    "#Multi-layer Perceptron classifier\n",
    "from sklearn.neural_network import MLPClassifier\n",
    "neural_clf=MLPClassifier(hidden_layer_sizes=(33,),max_iter=500)\n",
    "cross_val_scores = cross_validate(neural_clf, X, y, cv=fold_count, scoring=scoring)\n",
    "neural_clf_score = mean_score(cross_val_scores)\n",
    "print(neural_clf_score)"
   ]
  },
  {
   "cell_type": "code",
   "execution_count": 25,
   "id": "41bef061",
   "metadata": {},
   "outputs": [
    {
     "name": "stdout",
     "output_type": "stream",
     "text": [
      "{'fit_time': 0.011157989501953125, 'score_time': 0.0018081426620483398, 'test_accuracy': 0.8038469433574956, 'test_recall': 0.9144519186668706, 'test_precision': 0.8509722882752658, 'test_f1': 0.8781439449697104}\n"
     ]
    }
   ],
   "source": [
    "#Decision Tree\n",
    "from sklearn.tree import DecisionTreeClassifier\n",
    "decisionTree = DecisionTreeClassifier()\n",
    "cross_val_scores = cross_validate(decisionTree, X, y, cv=fold_count, scoring=scoring)\n",
    "decisionTree_clf_score = mean_score(cross_val_scores)\n",
    "print(decisionTree_clf_score)"
   ]
  },
  {
   "cell_type": "code",
   "execution_count": 26,
   "id": "84c02451",
   "metadata": {},
   "outputs": [
    {
     "name": "stdout",
     "output_type": "stream",
     "text": [
      "{'fit_time': 0.21490955352783203, 'score_time': 0.006186628341674804, 'test_accuracy': 0.7773484216726246, 'test_recall': 0.8964390226355027, 'test_precision': 0.8340112083501449, 'test_f1': 0.858302243613195}\n"
     ]
    }
   ],
   "source": [
    "# Ada Boost\n",
    "from sklearn.ensemble import AdaBoostClassifier\n",
    "adaBoost = AdaBoostClassifier()\n",
    "cross_val_scores = cross_validate(adaBoost, X, y, cv=fold_count, scoring=scoring)\n",
    "adaBoost_clf_score = mean_score(cross_val_scores)\n",
    "print(adaBoost_clf_score)"
   ]
  },
  {
   "cell_type": "code",
   "execution_count": 27,
   "id": "42f257f6",
   "metadata": {},
   "outputs": [
    {
     "name": "stdout",
     "output_type": "stream",
     "text": [
      "{'fit_time': 1.3908843040466308, 'score_time': 0.32463779449462893, 'test_accuracy': 0.7736111710471836, 'test_recall': 0.9038472260942292, 'test_precision': 0.8253251003826223, 'test_f1': 0.8556666451404447}\n"
     ]
    }
   ],
   "source": [
    "#SVM\n",
    "from sklearn.svm import SVC\n",
    "svc = SVC()\n",
    "cross_val_scores = cross_validate(svc, X, y, cv=fold_count, scoring=scoring)\n",
    "svc_clf_score = mean_score(cross_val_scores)\n",
    "print(svc_clf_score)"
   ]
  },
  {
   "attachments": {},
   "cell_type": "markdown",
   "id": "f09d119c",
   "metadata": {},
   "source": [
    "<h2 align=\"center\">Bagging<h2/>"
   ]
  },
  {
   "cell_type": "code",
   "execution_count": 29,
   "id": "a3ca4427",
   "metadata": {},
   "outputs": [
    {
     "name": "stdout",
     "output_type": "stream",
     "text": [
      "{'fit_time': 2.338610363006592, 'score_time': 0.10221223831176758, 'test_accuracy': 0.79575493209081, 'test_recall': 0.9072497459463836, 'test_precision': 0.8469307101049918, 'test_f1': 0.8718051029604112}\n"
     ]
    }
   ],
   "source": [
    "#Bagging Classifier Random Forest\n",
    "from sklearn.ensemble import BaggingClassifier\n",
    "bagging = BaggingClassifier(RandomForestClassifier())\n",
    "cross_val_scores = cross_validate(bagging, X, y, cv=fold_count, scoring=scoring)\n",
    "bagging_clf_score = mean_score(cross_val_scores)\n",
    "print(bagging_clf_score)"
   ]
  },
  {
   "cell_type": "code",
   "execution_count": 30,
   "id": "4d699b03",
   "metadata": {},
   "outputs": [
    {
     "name": "stdout",
     "output_type": "stream",
     "text": [
      "{'fit_time': 0.06140480041503906, 'score_time': 0.0038114309310913084, 'test_accuracy': 0.8078222406242164, 'test_recall': 0.9233745514717123, 'test_precision': 0.8491566647942053, 'test_f1': 0.8824252945794463}\n"
     ]
    }
   ],
   "source": [
    "#Bagging Decision Tree\n",
    "bagging = BaggingClassifier(DecisionTreeClassifier())\n",
    "cross_val_scores = cross_validate(bagging, X, y, cv=fold_count, scoring=scoring)\n",
    "bagging_clf_score = mean_score(cross_val_scores)\n",
    "print(bagging_clf_score)"
   ]
  },
  {
   "cell_type": "code",
   "execution_count": 31,
   "id": "3386b1cc",
   "metadata": {},
   "outputs": [
    {
     "name": "stdout",
     "output_type": "stream",
     "text": [
      "{'fit_time': 1.9236100435256958, 'score_time': 0.04628396034240723, 'test_accuracy': 0.7720047935898856, 'test_recall': 0.8893296581742314, 'test_precision': 0.8320236815227495, 'test_f1': 0.853024675442694}\n"
     ]
    }
   ],
   "source": [
    "#Bagging Ada Boost\n",
    "bagging = BaggingClassifier(AdaBoostClassifier())\n",
    "cross_val_scores = cross_validate(bagging, X, y, cv=fold_count, scoring=scoring)\n",
    "bagging_clf_score = mean_score(cross_val_scores)\n",
    "print(bagging_clf_score)"
   ]
  },
  {
   "cell_type": "code",
   "execution_count": 32,
   "id": "29d705cd",
   "metadata": {},
   "outputs": [
    {
     "name": "stdout",
     "output_type": "stream",
     "text": [
      "{'fit_time': 5.780992746353149, 'score_time': 2.1266437292099, 'test_accuracy': 0.7755212008467509, 'test_recall': 0.9006215995035836, 'test_precision': 0.8288391508983807, 'test_f1': 0.8562169389850596}\n"
     ]
    }
   ],
   "source": [
    "#Bagging SVM\n",
    "bagging = BaggingClassifier(SVC())\n",
    "cross_val_scores = cross_validate(bagging, X, y, cv=fold_count, scoring=scoring)\n",
    "bagging_clf_score = mean_score(cross_val_scores)\n",
    "print(bagging_clf_score)"
   ]
  }
 ],
 "metadata": {
  "kernelspec": {
   "display_name": "Python 3.9.12 ('base')",
   "language": "python",
   "name": "python3"
  },
  "language_info": {
   "codemirror_mode": {
    "name": "ipython",
    "version": 3
   },
   "file_extension": ".py",
   "mimetype": "text/x-python",
   "name": "python",
   "nbconvert_exporter": "python",
   "pygments_lexer": "ipython3",
   "version": "3.11.3"
  },
  "vscode": {
   "interpreter": {
    "hash": "e06ff7da33dc9620448857a90ad8b5f428f0d573d205a934d2841c8aee45ea32"
   }
  }
 },
 "nbformat": 4,
 "nbformat_minor": 5
}
