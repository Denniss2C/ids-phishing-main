{
 "cells": [
  {
   "cell_type": "code",
   "execution_count": 12,
   "id": "66c31b79",
   "metadata": {},
   "outputs": [],
   "source": [
    "import pandas as pd\n",
    "import sklearn\n",
    "from sklearn.model_selection import train_test_split\n",
    "from sklearn import preprocessing\n",
    "from sklearn.metrics import confusion_matrix\n",
    "from sklearn.metrics import accuracy_score\n",
    "from sklearn.metrics import classification_report\n",
    "from sklearn.model_selection import KFold\n",
    "from sklearn.model_selection import cross_validate"
   ]
  },
  {
   "cell_type": "code",
   "execution_count": 58,
   "id": "0e6c2dd2",
   "metadata": {
    "scrolled": true
   },
   "outputs": [
    {
     "data": {
      "text/html": [
       "<div>\n",
       "<style scoped>\n",
       "    .dataframe tbody tr th:only-of-type {\n",
       "        vertical-align: middle;\n",
       "    }\n",
       "\n",
       "    .dataframe tbody tr th {\n",
       "        vertical-align: top;\n",
       "    }\n",
       "\n",
       "    .dataframe thead th {\n",
       "        text-align: right;\n",
       "    }\n",
       "</style>\n",
       "<table border=\"1\" class=\"dataframe\">\n",
       "  <thead>\n",
       "    <tr style=\"text-align: right;\">\n",
       "      <th></th>\n",
       "      <th>haveIp</th>\n",
       "      <th>lengthUrl</th>\n",
       "      <th>haveAtSymbol</th>\n",
       "      <th>sslState</th>\n",
       "      <th>domainAge</th>\n",
       "      <th>slashDouble</th>\n",
       "      <th>anchorUrl</th>\n",
       "      <th>prefixSuffix</th>\n",
       "      <th>linksInTags</th>\n",
       "      <th>clicRigth</th>\n",
       "      <th>...</th>\n",
       "      <th>shorterService</th>\n",
       "      <th>domainRegisterAge</th>\n",
       "      <th>httpsToken</th>\n",
       "      <th>emailInformation</th>\n",
       "      <th>pageRank</th>\n",
       "      <th>staticalInform</th>\n",
       "      <th>haveSubdomain</th>\n",
       "      <th>linksToPage</th>\n",
       "      <th>hasIPSrc</th>\n",
       "      <th>result</th>\n",
       "    </tr>\n",
       "    <tr>\n",
       "      <th>Ord.</th>\n",
       "      <th></th>\n",
       "      <th></th>\n",
       "      <th></th>\n",
       "      <th></th>\n",
       "      <th></th>\n",
       "      <th></th>\n",
       "      <th></th>\n",
       "      <th></th>\n",
       "      <th></th>\n",
       "      <th></th>\n",
       "      <th></th>\n",
       "      <th></th>\n",
       "      <th></th>\n",
       "      <th></th>\n",
       "      <th></th>\n",
       "      <th></th>\n",
       "      <th></th>\n",
       "      <th></th>\n",
       "      <th></th>\n",
       "      <th></th>\n",
       "      <th></th>\n",
       "    </tr>\n",
       "  </thead>\n",
       "  <tbody>\n",
       "    <tr>\n",
       "      <th>0</th>\n",
       "      <td>1</td>\n",
       "      <td>1</td>\n",
       "      <td>1</td>\n",
       "      <td>1</td>\n",
       "      <td>-1</td>\n",
       "      <td>1</td>\n",
       "      <td>-1</td>\n",
       "      <td>1</td>\n",
       "      <td>0</td>\n",
       "      <td>-1</td>\n",
       "      <td>...</td>\n",
       "      <td>1</td>\n",
       "      <td>-1</td>\n",
       "      <td>1</td>\n",
       "      <td>-1</td>\n",
       "      <td>-1</td>\n",
       "      <td>1</td>\n",
       "      <td>-1</td>\n",
       "      <td>1</td>\n",
       "      <td>-1</td>\n",
       "      <td>1</td>\n",
       "    </tr>\n",
       "    <tr>\n",
       "      <th>1</th>\n",
       "      <td>1</td>\n",
       "      <td>1</td>\n",
       "      <td>1</td>\n",
       "      <td>1</td>\n",
       "      <td>-1</td>\n",
       "      <td>1</td>\n",
       "      <td>-1</td>\n",
       "      <td>1</td>\n",
       "      <td>0</td>\n",
       "      <td>-1</td>\n",
       "      <td>...</td>\n",
       "      <td>1</td>\n",
       "      <td>-1</td>\n",
       "      <td>1</td>\n",
       "      <td>-1</td>\n",
       "      <td>-1</td>\n",
       "      <td>1</td>\n",
       "      <td>-1</td>\n",
       "      <td>-1</td>\n",
       "      <td>-1</td>\n",
       "      <td>1</td>\n",
       "    </tr>\n",
       "    <tr>\n",
       "      <th>2</th>\n",
       "      <td>1</td>\n",
       "      <td>1</td>\n",
       "      <td>1</td>\n",
       "      <td>1</td>\n",
       "      <td>-1</td>\n",
       "      <td>1</td>\n",
       "      <td>-1</td>\n",
       "      <td>1</td>\n",
       "      <td>-1</td>\n",
       "      <td>-1</td>\n",
       "      <td>...</td>\n",
       "      <td>1</td>\n",
       "      <td>-1</td>\n",
       "      <td>1</td>\n",
       "      <td>-1</td>\n",
       "      <td>-1</td>\n",
       "      <td>1</td>\n",
       "      <td>-1</td>\n",
       "      <td>-1</td>\n",
       "      <td>-1</td>\n",
       "      <td>1</td>\n",
       "    </tr>\n",
       "    <tr>\n",
       "      <th>3</th>\n",
       "      <td>1</td>\n",
       "      <td>-1</td>\n",
       "      <td>1</td>\n",
       "      <td>1</td>\n",
       "      <td>-1</td>\n",
       "      <td>1</td>\n",
       "      <td>-1</td>\n",
       "      <td>-1</td>\n",
       "      <td>-1</td>\n",
       "      <td>-1</td>\n",
       "      <td>...</td>\n",
       "      <td>1</td>\n",
       "      <td>-1</td>\n",
       "      <td>1</td>\n",
       "      <td>-1</td>\n",
       "      <td>-1</td>\n",
       "      <td>0</td>\n",
       "      <td>1</td>\n",
       "      <td>-1</td>\n",
       "      <td>-1</td>\n",
       "      <td>1</td>\n",
       "    </tr>\n",
       "    <tr>\n",
       "      <th>4</th>\n",
       "      <td>1</td>\n",
       "      <td>1</td>\n",
       "      <td>1</td>\n",
       "      <td>1</td>\n",
       "      <td>-1</td>\n",
       "      <td>1</td>\n",
       "      <td>-1</td>\n",
       "      <td>1</td>\n",
       "      <td>1</td>\n",
       "      <td>-1</td>\n",
       "      <td>...</td>\n",
       "      <td>1</td>\n",
       "      <td>-1</td>\n",
       "      <td>1</td>\n",
       "      <td>-1</td>\n",
       "      <td>-1</td>\n",
       "      <td>1</td>\n",
       "      <td>0</td>\n",
       "      <td>-1</td>\n",
       "      <td>-1</td>\n",
       "      <td>1</td>\n",
       "    </tr>\n",
       "  </tbody>\n",
       "</table>\n",
       "<p>5 rows × 32 columns</p>\n",
       "</div>"
      ],
      "text/plain": [
       "      haveIp  lengthUrl  haveAtSymbol  sslState  domainAge  slashDouble   \n",
       "Ord.                                                                      \n",
       "0          1          1             1         1         -1            1  \\\n",
       "1          1          1             1         1         -1            1   \n",
       "2          1          1             1         1         -1            1   \n",
       "3          1         -1             1         1         -1            1   \n",
       "4          1          1             1         1         -1            1   \n",
       "\n",
       "      anchorUrl  prefixSuffix  linksInTags  clicRigth  ...  shorterService   \n",
       "Ord.                                                   ...                   \n",
       "0            -1             1            0         -1  ...               1  \\\n",
       "1            -1             1            0         -1  ...               1   \n",
       "2            -1             1           -1         -1  ...               1   \n",
       "3            -1            -1           -1         -1  ...               1   \n",
       "4            -1             1            1         -1  ...               1   \n",
       "\n",
       "      domainRegisterAge  httpsToken  emailInformation  pageRank   \n",
       "Ord.                                                              \n",
       "0                    -1           1                -1        -1  \\\n",
       "1                    -1           1                -1        -1   \n",
       "2                    -1           1                -1        -1   \n",
       "3                    -1           1                -1        -1   \n",
       "4                    -1           1                -1        -1   \n",
       "\n",
       "      staticalInform  haveSubdomain  linksToPage  hasIPSrc  result  \n",
       "Ord.                                                                \n",
       "0                  1             -1            1        -1       1  \n",
       "1                  1             -1           -1        -1       1  \n",
       "2                  1             -1           -1        -1       1  \n",
       "3                  0              1           -1        -1       1  \n",
       "4                  1              0           -1        -1       1  \n",
       "\n",
       "[5 rows x 32 columns]"
      ]
     },
     "execution_count": 58,
     "metadata": {},
     "output_type": "execute_result"
    }
   ],
   "source": [
    "df = pd.read_csv(\"/Users/denniscaisa/Desktop/DENNIS/TITULACION/Documentos/Separacion de Caracteristicas/30Features/Dataset_Legitime_AllFeatures_30x10.csv\",index_col=0)\n",
    "#df = sklearn.utils.shuffle(df)\n",
    "X = df.drop(\"result\",axis=1).values\n",
    "X = preprocessing.scale(X)\n",
    "y = df['result'].values\n",
    "df.head()"
   ]
  },
  {
   "cell_type": "code",
   "execution_count": 59,
   "id": "29f5b617",
   "metadata": {},
   "outputs": [],
   "source": [
    "def mean_score(scoring):\n",
    "    return {i:j.mean() for i,j in scoring.items()}"
   ]
  },
  {
   "cell_type": "code",
   "execution_count": 60,
   "id": "10c67c09",
   "metadata": {},
   "outputs": [],
   "source": [
    "scoring = {'accuracy': 'accuracy',\n",
    "           'recall': 'recall',\n",
    "           'precision': 'precision',\n",
    "           'f1': 'f1'}\n",
    "fold_count=10"
   ]
  },
  {
   "cell_type": "code",
   "execution_count": 61,
   "id": "3702abac",
   "metadata": {},
   "outputs": [
    {
     "name": "stdout",
     "output_type": "stream",
     "text": [
      "{'fit_time': 0.2558645820617676, 'score_time': 0.0048579049110412595, 'test_accuracy': 0.8280008096229472, 'test_recall': 0.9609292893669549, 'test_precision': 0.8463805741967563, 'test_f1': 0.8993721488548435}\n"
     ]
    }
   ],
   "source": [
    "#Random Forest\n",
    "from sklearn.ensemble import RandomForestClassifier\n",
    "rforest_clf = RandomForestClassifier()\n",
    "cross_val_scores = cross_validate(rforest_clf, X, y, cv=100, scoring = scoring)\n",
    "rforest_clf_score = mean_score(cross_val_scores)\n",
    "print(rforest_clf_score)"
   ]
  },
  {
   "cell_type": "code",
   "execution_count": 7,
   "id": "e44e202c",
   "metadata": {},
   "outputs": [
    {
     "name": "stdout",
     "output_type": "stream",
     "text": [
      "{'fit_time': 1.15136661529541, 'score_time': 0.003896784782409668, 'test_accuracy': 0.8230080068113296, 'test_recall': 0.9778016493250716, 'test_precision': 0.8320112365479003, 'test_f1': 0.898587185996746}\n"
     ]
    }
   ],
   "source": [
    "#Multi-layer Perceptron classifier\n",
    "from sklearn.neural_network import MLPClassifier\n",
    "neural_clf=MLPClassifier(hidden_layer_sizes=(33,),max_iter=500)\n",
    "cross_val_scores = cross_validate(neural_clf, X, y, cv=fold_count, scoring=scoring)\n",
    "neural_clf_score = mean_score(cross_val_scores)\n",
    "print(neural_clf_score)"
   ]
  },
  {
   "cell_type": "code",
   "execution_count": 8,
   "id": "41bef061",
   "metadata": {},
   "outputs": [
    {
     "name": "stdout",
     "output_type": "stream",
     "text": [
      "{'fit_time': 0.005398154258728027, 'score_time': 0.0033328056335449217, 'test_accuracy': 0.8273619510260731, 'test_recall': 0.9740091908954378, 'test_precision': 0.8379148646088076, 'test_f1': 0.9006809500556289}\n"
     ]
    }
   ],
   "source": [
    "#Decision Tree\n",
    "from sklearn.tree import DecisionTreeClassifier\n",
    "decisionTree = DecisionTreeClassifier()\n",
    "cross_val_scores = cross_validate(decisionTree, X, y, cv=fold_count, scoring=scoring)\n",
    "decisionTree_clf_score = mean_score(cross_val_scores)\n",
    "print(decisionTree_clf_score)"
   ]
  },
  {
   "cell_type": "code",
   "execution_count": 9,
   "id": "84c02451",
   "metadata": {},
   "outputs": [
    {
     "name": "stdout",
     "output_type": "stream",
     "text": [
      "{'fit_time': 0.11643636226654053, 'score_time': 0.005671906471252442, 'test_accuracy': 0.8238481679972477, 'test_recall': 0.9833019775713374, 'test_precision': 0.8295263612040742, 'test_f1': 0.8996449885800214}\n"
     ]
    }
   ],
   "source": [
    "# Ada Boost\n",
    "from sklearn.ensemble import AdaBoostClassifier\n",
    "adaBoost = AdaBoostClassifier()\n",
    "cross_val_scores = cross_validate(adaBoost, X, y, cv=fold_count, scoring=scoring)\n",
    "adaBoost_clf_score = mean_score(cross_val_scores)\n",
    "print(adaBoost_clf_score)"
   ]
  },
  {
   "cell_type": "code",
   "execution_count": 10,
   "id": "42f257f6",
   "metadata": {},
   "outputs": [
    {
     "name": "stdout",
     "output_type": "stream",
     "text": [
      "{'fit_time': 1.0578321456909179, 'score_time': 0.184501576423645, 'test_accuracy': 0.8219385464109307, 'test_recall': 0.9834917308920204, 'test_precision': 0.8278420410853979, 'test_f1': 0.8985333707407328}\n"
     ]
    }
   ],
   "source": [
    "#SVM\n",
    "from sklearn.svm import SVC\n",
    "svc = SVC()\n",
    "cross_val_scores = cross_validate(svc, X, y, cv=fold_count, scoring=scoring)\n",
    "svc_clf_score = mean_score(cross_val_scores)\n",
    "print(svc_clf_score)"
   ]
  },
  {
   "attachments": {},
   "cell_type": "markdown",
   "id": "f09d119c",
   "metadata": {},
   "source": [
    "<h2 align=\"center\">Bagging<h2/>"
   ]
  },
  {
   "cell_type": "code",
   "execution_count": 11,
   "id": "a3ca4427",
   "metadata": {},
   "outputs": [
    {
     "name": "stdout",
     "output_type": "stream",
     "text": [
      "{'fit_time': 2.224859666824341, 'score_time': 0.09786548614501953, 'test_accuracy': 0.8268271916677845, 'test_recall': 0.9751477108195366, 'test_precision': 0.8368362697610324, 'test_f1': 0.9005090862083769}\n"
     ]
    }
   ],
   "source": [
    "#Bagging Classifier Random Forest\n",
    "from sklearn.ensemble import BaggingClassifier\n",
    "bagging = BaggingClassifier(RandomForestClassifier())\n",
    "cross_val_scores = cross_validate(bagging, X, y, cv=fold_count, scoring=scoring)\n",
    "bagging_clf_score = mean_score(cross_val_scores)\n",
    "print(bagging_clf_score)"
   ]
  },
  {
   "cell_type": "code",
   "execution_count": 30,
   "id": "4d699b03",
   "metadata": {},
   "outputs": [
    {
     "name": "stdout",
     "output_type": "stream",
     "text": [
      "{'fit_time': 0.06140480041503906, 'score_time': 0.0038114309310913084, 'test_accuracy': 0.8078222406242164, 'test_recall': 0.9233745514717123, 'test_precision': 0.8491566647942053, 'test_f1': 0.8824252945794463}\n"
     ]
    }
   ],
   "source": [
    "#Bagging Decision Tree\n",
    "bagging = BaggingClassifier(DecisionTreeClassifier())\n",
    "cross_val_scores = cross_validate(bagging, X, y, cv=fold_count, scoring=scoring)\n",
    "bagging_clf_score = mean_score(cross_val_scores)\n",
    "print(bagging_clf_score)"
   ]
  },
  {
   "cell_type": "code",
   "execution_count": 31,
   "id": "3386b1cc",
   "metadata": {},
   "outputs": [
    {
     "name": "stdout",
     "output_type": "stream",
     "text": [
      "{'fit_time': 1.9236100435256958, 'score_time': 0.04628396034240723, 'test_accuracy': 0.7720047935898856, 'test_recall': 0.8893296581742314, 'test_precision': 0.8320236815227495, 'test_f1': 0.853024675442694}\n"
     ]
    }
   ],
   "source": [
    "#Bagging Ada Boost\n",
    "bagging = BaggingClassifier(AdaBoostClassifier())\n",
    "cross_val_scores = cross_validate(bagging, X, y, cv=fold_count, scoring=scoring)\n",
    "bagging_clf_score = mean_score(cross_val_scores)\n",
    "print(bagging_clf_score)"
   ]
  },
  {
   "cell_type": "code",
   "execution_count": 32,
   "id": "29d705cd",
   "metadata": {},
   "outputs": [
    {
     "name": "stdout",
     "output_type": "stream",
     "text": [
      "{'fit_time': 5.780992746353149, 'score_time': 2.1266437292099, 'test_accuracy': 0.7755212008467509, 'test_recall': 0.9006215995035836, 'test_precision': 0.8288391508983807, 'test_f1': 0.8562169389850596}\n"
     ]
    }
   ],
   "source": [
    "#Bagging SVM\n",
    "bagging = BaggingClassifier(SVC())\n",
    "cross_val_scores = cross_validate(bagging, X, y, cv=fold_count, scoring=scoring)\n",
    "bagging_clf_score = mean_score(cross_val_scores)\n",
    "print(bagging_clf_score)"
   ]
  }
 ],
 "metadata": {
  "kernelspec": {
   "display_name": "Python 3.9.12 ('base')",
   "language": "python",
   "name": "python3"
  },
  "language_info": {
   "codemirror_mode": {
    "name": "ipython",
    "version": 3
   },
   "file_extension": ".py",
   "mimetype": "text/x-python",
   "name": "python",
   "nbconvert_exporter": "python",
   "pygments_lexer": "ipython3",
   "version": "3.11.3"
  },
  "vscode": {
   "interpreter": {
    "hash": "e06ff7da33dc9620448857a90ad8b5f428f0d573d205a934d2841c8aee45ea32"
   }
  }
 },
 "nbformat": 4,
 "nbformat_minor": 5
}
