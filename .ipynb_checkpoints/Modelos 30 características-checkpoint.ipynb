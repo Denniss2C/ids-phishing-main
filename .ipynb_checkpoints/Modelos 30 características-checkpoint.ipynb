{
 "cells": [
  {
   "cell_type": "code",
   "execution_count": 1,
   "id": "66c31b79",
   "metadata": {},
   "outputs": [],
   "source": [
    "import pandas as pd\n",
    "import sklearn\n",
    "from sklearn.model_selection import train_test_split\n",
    "from sklearn import preprocessing\n",
    "from sklearn.metrics import confusion_matrix\n",
    "from sklearn.metrics import accuracy_score\n",
    "from sklearn.metrics import classification_report\n",
    "from sklearn.model_selection import KFold\n",
    "from sklearn.model_selection import cross_validate"
   ]
  },
  {
   "cell_type": "code",
   "execution_count": 2,
   "id": "0e6c2dd2",
   "metadata": {
    "scrolled": true
   },
   "outputs": [
    {
     "data": {
      "text/html": [
       "<div>\n",
       "<style scoped>\n",
       "    .dataframe tbody tr th:only-of-type {\n",
       "        vertical-align: middle;\n",
       "    }\n",
       "\n",
       "    .dataframe tbody tr th {\n",
       "        vertical-align: top;\n",
       "    }\n",
       "\n",
       "    .dataframe thead th {\n",
       "        text-align: right;\n",
       "    }\n",
       "</style>\n",
       "<table border=\"1\" class=\"dataframe\">\n",
       "  <thead>\n",
       "    <tr style=\"text-align: right;\">\n",
       "      <th></th>\n",
       "      <th>having_IPhaving_IP_Address</th>\n",
       "      <th>URLURL_Length</th>\n",
       "      <th>Shortining_Service</th>\n",
       "      <th>having_At_Symbol</th>\n",
       "      <th>double_slash_redirecting</th>\n",
       "      <th>Prefix_Suffix</th>\n",
       "      <th>having_Sub_Domain</th>\n",
       "      <th>SSLfinal_State</th>\n",
       "      <th>Domain_registeration_length</th>\n",
       "      <th>Favicon</th>\n",
       "      <th>...</th>\n",
       "      <th>popUpWidnow</th>\n",
       "      <th>Iframe</th>\n",
       "      <th>age_of_domain</th>\n",
       "      <th>DNSRecord</th>\n",
       "      <th>web_traffic</th>\n",
       "      <th>Page_Rank</th>\n",
       "      <th>Google_Index</th>\n",
       "      <th>Links_pointing_to_page</th>\n",
       "      <th>Statistical_report</th>\n",
       "      <th>Result</th>\n",
       "    </tr>\n",
       "    <tr>\n",
       "      <th>index</th>\n",
       "      <th></th>\n",
       "      <th></th>\n",
       "      <th></th>\n",
       "      <th></th>\n",
       "      <th></th>\n",
       "      <th></th>\n",
       "      <th></th>\n",
       "      <th></th>\n",
       "      <th></th>\n",
       "      <th></th>\n",
       "      <th></th>\n",
       "      <th></th>\n",
       "      <th></th>\n",
       "      <th></th>\n",
       "      <th></th>\n",
       "      <th></th>\n",
       "      <th></th>\n",
       "      <th></th>\n",
       "      <th></th>\n",
       "      <th></th>\n",
       "      <th></th>\n",
       "    </tr>\n",
       "  </thead>\n",
       "  <tbody>\n",
       "    <tr>\n",
       "      <th>1</th>\n",
       "      <td>-1</td>\n",
       "      <td>1</td>\n",
       "      <td>1</td>\n",
       "      <td>1</td>\n",
       "      <td>-1</td>\n",
       "      <td>-1</td>\n",
       "      <td>-1</td>\n",
       "      <td>-1</td>\n",
       "      <td>-1</td>\n",
       "      <td>1</td>\n",
       "      <td>...</td>\n",
       "      <td>1</td>\n",
       "      <td>1</td>\n",
       "      <td>-1</td>\n",
       "      <td>-1</td>\n",
       "      <td>-1</td>\n",
       "      <td>-1</td>\n",
       "      <td>1</td>\n",
       "      <td>1</td>\n",
       "      <td>-1</td>\n",
       "      <td>-1</td>\n",
       "    </tr>\n",
       "    <tr>\n",
       "      <th>2</th>\n",
       "      <td>1</td>\n",
       "      <td>1</td>\n",
       "      <td>1</td>\n",
       "      <td>1</td>\n",
       "      <td>1</td>\n",
       "      <td>-1</td>\n",
       "      <td>0</td>\n",
       "      <td>1</td>\n",
       "      <td>-1</td>\n",
       "      <td>1</td>\n",
       "      <td>...</td>\n",
       "      <td>1</td>\n",
       "      <td>1</td>\n",
       "      <td>-1</td>\n",
       "      <td>-1</td>\n",
       "      <td>0</td>\n",
       "      <td>-1</td>\n",
       "      <td>1</td>\n",
       "      <td>1</td>\n",
       "      <td>1</td>\n",
       "      <td>-1</td>\n",
       "    </tr>\n",
       "    <tr>\n",
       "      <th>3</th>\n",
       "      <td>1</td>\n",
       "      <td>0</td>\n",
       "      <td>1</td>\n",
       "      <td>1</td>\n",
       "      <td>1</td>\n",
       "      <td>-1</td>\n",
       "      <td>-1</td>\n",
       "      <td>-1</td>\n",
       "      <td>-1</td>\n",
       "      <td>1</td>\n",
       "      <td>...</td>\n",
       "      <td>1</td>\n",
       "      <td>1</td>\n",
       "      <td>1</td>\n",
       "      <td>-1</td>\n",
       "      <td>1</td>\n",
       "      <td>-1</td>\n",
       "      <td>1</td>\n",
       "      <td>0</td>\n",
       "      <td>-1</td>\n",
       "      <td>-1</td>\n",
       "    </tr>\n",
       "    <tr>\n",
       "      <th>4</th>\n",
       "      <td>1</td>\n",
       "      <td>0</td>\n",
       "      <td>1</td>\n",
       "      <td>1</td>\n",
       "      <td>1</td>\n",
       "      <td>-1</td>\n",
       "      <td>-1</td>\n",
       "      <td>-1</td>\n",
       "      <td>1</td>\n",
       "      <td>1</td>\n",
       "      <td>...</td>\n",
       "      <td>1</td>\n",
       "      <td>1</td>\n",
       "      <td>-1</td>\n",
       "      <td>-1</td>\n",
       "      <td>1</td>\n",
       "      <td>-1</td>\n",
       "      <td>1</td>\n",
       "      <td>-1</td>\n",
       "      <td>1</td>\n",
       "      <td>-1</td>\n",
       "    </tr>\n",
       "    <tr>\n",
       "      <th>5</th>\n",
       "      <td>1</td>\n",
       "      <td>0</td>\n",
       "      <td>-1</td>\n",
       "      <td>1</td>\n",
       "      <td>1</td>\n",
       "      <td>-1</td>\n",
       "      <td>1</td>\n",
       "      <td>1</td>\n",
       "      <td>-1</td>\n",
       "      <td>1</td>\n",
       "      <td>...</td>\n",
       "      <td>-1</td>\n",
       "      <td>1</td>\n",
       "      <td>-1</td>\n",
       "      <td>-1</td>\n",
       "      <td>0</td>\n",
       "      <td>-1</td>\n",
       "      <td>1</td>\n",
       "      <td>1</td>\n",
       "      <td>1</td>\n",
       "      <td>1</td>\n",
       "    </tr>\n",
       "  </tbody>\n",
       "</table>\n",
       "<p>5 rows × 31 columns</p>\n",
       "</div>"
      ],
      "text/plain": [
       "       having_IPhaving_IP_Address  URLURL_Length  Shortining_Service  \\\n",
       "index                                                                  \n",
       "1                              -1              1                   1   \n",
       "2                               1              1                   1   \n",
       "3                               1              0                   1   \n",
       "4                               1              0                   1   \n",
       "5                               1              0                  -1   \n",
       "\n",
       "       having_At_Symbol  double_slash_redirecting  Prefix_Suffix  \\\n",
       "index                                                              \n",
       "1                     1                        -1             -1   \n",
       "2                     1                         1             -1   \n",
       "3                     1                         1             -1   \n",
       "4                     1                         1             -1   \n",
       "5                     1                         1             -1   \n",
       "\n",
       "       having_Sub_Domain  SSLfinal_State  Domain_registeration_length  \\\n",
       "index                                                                   \n",
       "1                     -1              -1                           -1   \n",
       "2                      0               1                           -1   \n",
       "3                     -1              -1                           -1   \n",
       "4                     -1              -1                            1   \n",
       "5                      1               1                           -1   \n",
       "\n",
       "       Favicon  ...  popUpWidnow  Iframe  age_of_domain  DNSRecord  \\\n",
       "index           ...                                                  \n",
       "1            1  ...            1       1             -1         -1   \n",
       "2            1  ...            1       1             -1         -1   \n",
       "3            1  ...            1       1              1         -1   \n",
       "4            1  ...            1       1             -1         -1   \n",
       "5            1  ...           -1       1             -1         -1   \n",
       "\n",
       "       web_traffic  Page_Rank  Google_Index  Links_pointing_to_page  \\\n",
       "index                                                                 \n",
       "1               -1         -1             1                       1   \n",
       "2                0         -1             1                       1   \n",
       "3                1         -1             1                       0   \n",
       "4                1         -1             1                      -1   \n",
       "5                0         -1             1                       1   \n",
       "\n",
       "       Statistical_report  Result  \n",
       "index                              \n",
       "1                      -1      -1  \n",
       "2                       1      -1  \n",
       "3                      -1      -1  \n",
       "4                       1      -1  \n",
       "5                       1       1  \n",
       "\n",
       "[5 rows x 31 columns]"
      ]
     },
     "execution_count": 2,
     "metadata": {},
     "output_type": "execute_result"
    }
   ],
   "source": [
    "df = pd.read_csv(\"dataset.csv\",index_col=0)\n",
    "#df = sklearn.utils.shuffle(df)\n",
    "X = df.drop(\"Result\",axis=1).values\n",
    "X = preprocessing.scale(X)\n",
    "y = df['Result'].values\n",
    "df.head()"
   ]
  },
  {
   "cell_type": "code",
   "execution_count": 3,
   "id": "29f5b617",
   "metadata": {},
   "outputs": [],
   "source": [
    "def mean_score(scoring):\n",
    "    return {i:j.mean() for i,j in scoring.items()}"
   ]
  },
  {
   "cell_type": "code",
   "execution_count": 4,
   "id": "10c67c09",
   "metadata": {},
   "outputs": [],
   "source": [
    "scoring = {'accuracy': 'accuracy',\n",
    "           'recall': 'recall',\n",
    "           'precision': 'precision',\n",
    "           'f1': 'f1'}\n",
    "fold_count=10"
   ]
  },
  {
   "cell_type": "code",
   "execution_count": 5,
   "id": "3702abac",
   "metadata": {},
   "outputs": [
    {
     "name": "stdout",
     "output_type": "stream",
     "text": [
      "{'fit_time': 0.3920098543167114, 'score_time': 0.018569540977478028, 'test_accuracy': 0.9724971156914567, 'test_recall': 0.9821312427409989, 'test_precision': 0.9690669490719044, 'test_f1': 0.9755134273706597}\n"
     ]
    }
   ],
   "source": [
    "#Random Forest\n",
    "from sklearn.ensemble import RandomForestClassifier\n",
    "rforest_clf = RandomForestClassifier()\n",
    "cross_val_scores = cross_validate(rforest_clf, X, y, cv=10, scoring = scoring)\n",
    "rforest_clf_score = mean_score(cross_val_scores)\n",
    "print(rforest_clf_score)"
   ]
  },
  {
   "cell_type": "code",
   "execution_count": 6,
   "id": "e44e202c",
   "metadata": {},
   "outputs": [
    {
     "name": "stdout",
     "output_type": "stream",
     "text": [
      "{'fit_time': 6.222599935531616, 'score_time': 0.0015628337860107422, 'test_accuracy': 0.9687892450066686, 'test_recall': 0.9796974976243268, 'test_precision': 0.9649228742077011, 'test_f1': 0.9722172693774092}\n"
     ]
    }
   ],
   "source": [
    "#Multi-layer Perceptron classifier\n",
    "from sklearn.neural_network import MLPClassifier\n",
    "neural_clf=MLPClassifier(hidden_layer_sizes=(33,),max_iter=500)\n",
    "cross_val_scores = cross_validate(neural_clf, X, y, cv=fold_count, scoring=scoring)\n",
    "neural_clf_score = mean_score(cross_val_scores)\n",
    "print(neural_clf_score)"
   ]
  },
  {
   "cell_type": "code",
   "execution_count": 7,
   "id": "41bef061",
   "metadata": {},
   "outputs": [
    {
     "name": "stdout",
     "output_type": "stream",
     "text": [
      "{'fit_time': 0.021438860893249513, 'score_time': 0.0023910999298095703, 'test_accuracy': 0.9617287849901401, 'test_recall': 0.9670235455601309, 'test_precision': 0.9644721218624557, 'test_f1': 0.9656658007913194}\n"
     ]
    }
   ],
   "source": [
    "#Decision Tree\n",
    "from sklearn.tree import DecisionTreeClassifier\n",
    "decisionTree = DecisionTreeClassifier()\n",
    "cross_val_scores = cross_validate(decisionTree, X, y, cv=fold_count, scoring=scoring)\n",
    "decisionTree_clf_score = mean_score(cross_val_scores)\n",
    "print(decisionTree_clf_score)"
   ]
  },
  {
   "cell_type": "code",
   "execution_count": 8,
   "id": "84c02451",
   "metadata": {},
   "outputs": [
    {
     "name": "stdout",
     "output_type": "stream",
     "text": [
      "{'fit_time': 0.30548031330108644, 'score_time': 0.010331463813781739, 'test_accuracy': 0.9325201083354472, 'test_recall': 0.953387445887446, 'test_precision': 0.9275779409510688, 'test_f1': 0.9402698069986656}\n"
     ]
    }
   ],
   "source": [
    "# Ada Boost\n",
    "from sklearn.ensemble import AdaBoostClassifier\n",
    "adaBoost = AdaBoostClassifier()\n",
    "cross_val_scores = cross_validate(adaBoost, X, y, cv=fold_count, scoring=scoring)\n",
    "adaBoost_clf_score = mean_score(cross_val_scores)\n",
    "print(adaBoost_clf_score)"
   ]
  },
  {
   "cell_type": "code",
   "execution_count": 9,
   "id": "42f257f6",
   "metadata": {},
   "outputs": [
    {
     "name": "stdout",
     "output_type": "stream",
     "text": [
      "{'fit_time': 1.0627791166305542, 'score_time': 0.22374937534332276, 'test_accuracy': 0.9510619164900624, 'test_recall': 0.9693039277795377, 'test_precision': 0.9443993954251695, 'test_f1': 0.9566625102805597}\n"
     ]
    }
   ],
   "source": [
    "#SVM\n",
    "from sklearn.svm import SVC\n",
    "svc = SVC()\n",
    "cross_val_scores = cross_validate(svc, X, y, cv=fold_count, scoring=scoring)\n",
    "svc_clf_score = mean_score(cross_val_scores)\n",
    "print(svc_clf_score)"
   ]
  },
  {
   "cell_type": "markdown",
   "id": "f09d119c",
   "metadata": {},
   "source": [
    "<h2 align=\"center\">Bagging<h2/>"
   ]
  },
  {
   "cell_type": "code",
   "execution_count": 10,
   "id": "a3ca4427",
   "metadata": {},
   "outputs": [
    {
     "name": "stdout",
     "output_type": "stream",
     "text": [
      "{'fit_time': 2.951129126548767, 'score_time': 0.17858734130859374, 'test_accuracy': 0.9707780677996611, 'test_recall': 0.982782177172421, 'test_precision': 0.965565385061964, 'test_f1': 0.9740528586341455}\n"
     ]
    }
   ],
   "source": [
    "#Bagging Classifier Random Forest\n",
    "from sklearn.ensemble import BaggingClassifier\n",
    "bagging = BaggingClassifier(RandomForestClassifier())\n",
    "cross_val_scores = cross_validate(bagging, X, y, cv=fold_count, scoring=scoring)\n",
    "bagging_clf_score = mean_score(cross_val_scores)\n",
    "print(bagging_clf_score)"
   ]
  },
  {
   "cell_type": "code",
   "execution_count": 11,
   "id": "4d699b03",
   "metadata": {},
   "outputs": [
    {
     "name": "stdout",
     "output_type": "stream",
     "text": [
      "{'fit_time': 0.11213128566741944, 'score_time': 0.007921528816223145, 'test_accuracy': 0.9687876085195519, 'test_recall': 0.9783948368704467, 'test_precision': 0.9661306544333836, 'test_f1': 0.9721674124969832}\n"
     ]
    }
   ],
   "source": [
    "#Bagging Decision Tree\n",
    "bagging = BaggingClassifier(DecisionTreeClassifier())\n",
    "cross_val_scores = cross_validate(bagging, X, y, cv=fold_count, scoring=scoring)\n",
    "bagging_clf_score = mean_score(cross_val_scores)\n",
    "print(bagging_clf_score)"
   ]
  },
  {
   "cell_type": "code",
   "execution_count": 12,
   "id": "3386b1cc",
   "metadata": {},
   "outputs": [
    {
     "name": "stdout",
     "output_type": "stream",
     "text": [
      "{'fit_time': 2.392755699157715, 'score_time': 0.09026694297790527, 'test_accuracy': 0.9326102787755804, 'test_recall': 0.9543630556435435, 'test_precision': 0.9269296192115869, 'test_f1': 0.940404511476015}\n"
     ]
    }
   ],
   "source": [
    "#Bagging Ada Boost\n",
    "bagging = BaggingClassifier(AdaBoostClassifier())\n",
    "cross_val_scores = cross_validate(bagging, X, y, cv=fold_count, scoring=scoring)\n",
    "bagging_clf_score = mean_score(cross_val_scores)\n",
    "print(bagging_clf_score)"
   ]
  },
  {
   "cell_type": "code",
   "execution_count": 13,
   "id": "29d705cd",
   "metadata": {},
   "outputs": [
    {
     "name": "stdout",
     "output_type": "stream",
     "text": [
      "{'fit_time': 4.080403113365174, 'score_time': 1.3414402961730958, 'test_accuracy': 0.9514241529133562, 'test_recall': 0.9670317284341674, 'test_precision': 0.947003650116568, 'test_f1': 0.9568764934163759}\n"
     ]
    }
   ],
   "source": [
    "#Bagging SVM\n",
    "bagging = BaggingClassifier(SVC())\n",
    "cross_val_scores = cross_validate(bagging, X, y, cv=fold_count, scoring=scoring)\n",
    "bagging_clf_score = mean_score(cross_val_scores)\n",
    "print(bagging_clf_score)"
   ]
  }
 ],
 "metadata": {
  "kernelspec": {
   "display_name": "Python 3 (ipykernel)",
   "language": "python",
   "name": "python3"
  },
  "language_info": {
   "codemirror_mode": {
    "name": "ipython",
    "version": 3
   },
   "file_extension": ".py",
   "mimetype": "text/x-python",
   "name": "python",
   "nbconvert_exporter": "python",
   "pygments_lexer": "ipython3",
   "version": "3.9.12"
  },
  "vscode": {
   "interpreter": {
    "hash": "5ae58900cfbb8c43ab3495913814b7cf26024f51651a94ce8bf64d6111688e8d"
   }
  }
 },
 "nbformat": 4,
 "nbformat_minor": 5
}
